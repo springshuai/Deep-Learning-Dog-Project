{
 "cells": [
  {
   "cell_type": "markdown",
   "metadata": {
    "deletable": true,
    "editable": true
   },
   "source": [
    "# Artificial Intelligence Nanodegree\n",
    "\n",
    "## Convolutional Neural Networks\n",
    "\n",
    "## Project: Write an Algorithm for a Dog Identification App \n",
    "\n",
    "---\n",
    "\n",
    "In this notebook, some template code has already been provided for you, and you will need to implement additional functionality to successfully complete this project. You will not need to modify the included code beyond what is requested. Sections that begin with **'(IMPLEMENTATION)'** in the header indicate that the following block of code will require additional functionality which you must provide. Instructions will be provided for each section, and the specifics of the implementation are marked in the code block with a 'TODO' statement. Please be sure to read the instructions carefully! \n",
    "\n",
    "> **Note**: Once you have completed all of the code implementations, you need to finalize your work by exporting the iPython Notebook as an HTML document. Before exporting the notebook to html, all of the code cells need to have been run so that reviewers can see the final implementation and output. You can then export the notebook by using the menu above and navigating to  \\n\",\n",
    "    \"**File -> Download as -> HTML (.html)**. Include the finished document along with this notebook as your submission.\n",
    "\n",
    "In addition to implementing code, there will be questions that you must answer which relate to the project and your implementation. Each section where you will answer a question is preceded by a **'Question X'** header. Carefully read each question and provide thorough answers in the following text boxes that begin with **'Answer:'**. Your project submission will be evaluated based on your answers to each of the questions and the implementation you provide.\n",
    "\n",
    ">**Note:** Code and Markdown cells can be executed using the **Shift + Enter** keyboard shortcut.  Markdown cells can be edited by double-clicking the cell to enter edit mode.\n",
    "\n",
    "The rubric contains _optional_ \"Stand Out Suggestions\" for enhancing the project beyond the minimum requirements. If you decide to pursue the \"Stand Out Suggestions\", you should include the code in this IPython notebook.\n",
    "\n",
    "\n",
    "\n",
    "---\n",
    "### Why We're Here \n",
    "\n",
    "In this notebook, you will make the first steps towards developing an algorithm that could be used as part of a mobile or web app.  At the end of this project, your code will accept any user-supplied image as input.  If a dog is detected in the image, it will provide an estimate of the dog's breed.  If a human is detected, it will provide an estimate of the dog breed that is most resembling.  The image below displays potential sample output of your finished project (... but we expect that each student's algorithm will behave differently!). \n",
    "\n",
    "![Sample Dog Output](images/sample_dog_output.png)\n",
    "\n",
    "In this real-world setting, you will need to piece together a series of models to perform different tasks; for instance, the algorithm that detects humans in an image will be different from the CNN that infers dog breed.  There are many points of possible failure, and no perfect algorithm exists.  Your imperfect solution will nonetheless create a fun user experience!\n",
    "\n",
    "### The Road Ahead\n",
    "\n",
    "We break the notebook into separate steps.  Feel free to use the links below to navigate the notebook.\n",
    "\n",
    "* [Step 0](#step0): Import Datasets\n",
    "* [Step 1](#step1): Detect Humans\n",
    "* [Step 2](#step2): Detect Dogs\n",
    "* [Step 3](#step3): Create a CNN to Classify Dog Breeds (from Scratch)\n",
    "* [Step 4](#step4): Use a CNN to Classify Dog Breeds (using Transfer Learning)\n",
    "* [Step 5](#step5): Create a CNN to Classify Dog Breeds (using Transfer Learning)\n",
    "* [Step 6](#step6): Write your Algorithm\n",
    "* [Step 7](#step7): Test Your Algorithm\n",
    "\n",
    "---\n",
    "<a id='step0'></a>\n",
    "## Step 0: Import Datasets\n",
    "\n",
    "### Import Dog Dataset\n",
    "\n",
    "In the code cell below, we import a dataset of dog images.  We populate a few variables through the use of the `load_files` function from the scikit-learn library:\n",
    "- `train_files`, `valid_files`, `test_files` - numpy arrays containing file paths to images\n",
    "- `train_targets`, `valid_targets`, `test_targets` - numpy arrays containing onehot-encoded classification labels \n",
    "- `dog_names` - list of string-valued dog breed names for translating labels"
   ]
  },
  {
   "cell_type": "code",
   "execution_count": 10,
   "metadata": {
    "collapsed": false,
    "deletable": true,
    "editable": true,
    "scrolled": true
   },
   "outputs": [
    {
     "name": "stderr",
     "output_type": "stream",
     "text": [
      "Using TensorFlow backend.\n"
     ]
    },
    {
     "name": "stdout",
     "output_type": "stream",
     "text": [
      "There are 133 total dog categories.\n",
      "There are 8351 total dog images.\n",
      "\n",
      "There are 6680 training dog images.\n",
      "There are 835 validation dog images.\n",
      "There are 836 test dog images.\n"
     ]
    }
   ],
   "source": [
    "from sklearn.datasets import load_files       \n",
    "from keras.utils import np_utils\n",
    "import numpy as np\n",
    "from glob import glob\n",
    "\n",
    "# define function to load train, test, and validation datasets\n",
    "def load_dataset(path):\n",
    "    data = load_files(path)\n",
    "    dog_files = np.array(data['filenames'])\n",
    "    dog_targets = np_utils.to_categorical(np.array(data['target']), 133)\n",
    "    return dog_files, dog_targets\n",
    "\n",
    "# load train, test, and validation datasets\n",
    "train_files, train_targets = load_dataset('dogImages/train')\n",
    "valid_files, valid_targets = load_dataset('dogImages/valid')\n",
    "test_files, test_targets = load_dataset('dogImages/test')\n",
    "\n",
    "# load list of dog names\n",
    "dog_names = [item[20:-1] for item in sorted(glob(\"dogImages/train/*/\"))]\n",
    "\n",
    "# print statistics about the dataset\n",
    "print('There are %d total dog categories.' % len(dog_names))\n",
    "print('There are %s total dog images.\\n' % len(np.hstack([train_files, valid_files, test_files])))\n",
    "print('There are %d training dog images.' % len(train_files))\n",
    "print('There are %d validation dog images.' % len(valid_files))\n",
    "print('There are %d test dog images.'% len(test_files))"
   ]
  },
  {
   "cell_type": "markdown",
   "metadata": {
    "deletable": true,
    "editable": true
   },
   "source": [
    "### Import Human Dataset\n",
    "\n",
    "In the code cell below, we import a dataset of human images, where the file paths are stored in the numpy array `human_files`."
   ]
  },
  {
   "cell_type": "code",
   "execution_count": 2,
   "metadata": {
    "collapsed": false,
    "deletable": true,
    "editable": true
   },
   "outputs": [
    {
     "name": "stdout",
     "output_type": "stream",
     "text": [
      "There are 13233 total human images.\n"
     ]
    }
   ],
   "source": [
    "import random\n",
    "random.seed(8675309)\n",
    "\n",
    "# load filenames in shuffled human dataset\n",
    "human_files = np.array(glob(\"lfw/*/*\"))\n",
    "random.shuffle(human_files)\n",
    "\n",
    "# print statistics about the dataset\n",
    "print('There are %d total human images.' % len(human_files))"
   ]
  },
  {
   "cell_type": "markdown",
   "metadata": {
    "deletable": true,
    "editable": true
   },
   "source": [
    "---\n",
    "<a id='step1'></a>\n",
    "## Step 1: Detect Humans\n",
    "\n",
    "We use OpenCV's implementation of [Haar feature-based cascade classifiers](http://docs.opencv.org/trunk/d7/d8b/tutorial_py_face_detection.html) to detect human faces in images.  OpenCV provides many pre-trained face detectors, stored as XML files on [github](https://github.com/opencv/opencv/tree/master/data/haarcascades).  We have downloaded one of these detectors and stored it in the `haarcascades` directory.\n",
    "\n",
    "In the next code cell, we demonstrate how to use this detector to find human faces in a sample image."
   ]
  },
  {
   "cell_type": "code",
   "execution_count": 3,
   "metadata": {
    "collapsed": false,
    "deletable": true,
    "editable": true
   },
   "outputs": [
    {
     "name": "stdout",
     "output_type": "stream",
     "text": [
      "Number of faces detected: 1\n"
     ]
    },
    {
     "data": {
      "image/png": "[encoded data removed]",
      "text/plain": [
       "<matplotlib.figure.Figure at 0x10d2de48>"
      ]
     },
     "metadata": {},
     "output_type": "display_data"
    }
   ],
   "source": [
    "import cv2                \n",
    "import matplotlib.pyplot as plt                        \n",
    "%matplotlib inline                               \n",
    "\n",
    "# extract pre-trained face detector\n",
    "face_cascade = cv2.CascadeClassifier('haarcascades/haarcascade_frontalface_alt.xml')\n",
    "\n",
    "# load color (BGR) image\n",
    "img = cv2.imread(human_files[123])\n",
    "# convert BGR image to grayscale\n",
    "gray = cv2.cvtColor(img, cv2.COLOR_BGR2GRAY)\n",
    "\n",
    "# find faces in image\n",
    "faces = face_cascade.detectMultiScale(gray)\n",
    "\n",
    "# print number of faces detected in the image\n",
    "print('Number of faces detected:', len(faces))\n",
    "\n",
    "# get bounding box for each detected face\n",
    "for (x,y,w,h) in faces:\n",
    "    # add bounding box to color image\n",
    "    cv2.rectangle(img,(x,y),(x+w,y+h),(255,0,0),2)\n",
    "    \n",
    "# convert BGR image to RGB for plotting\n",
    "cv_rgb = cv2.cvtColor(img, cv2.COLOR_BGR2RGB)\n",
    "\n",
    "# display the image, along with bounding box\n",
    "plt.imshow(cv_rgb)\n",
    "plt.show()"
   ]
  },
  {
   "cell_type": "markdown",
   "metadata": {
    "deletable": true,
    "editable": true
   },
   "source": [
    "Before using any of the face detectors, it is standard procedure to convert the images to grayscale.  The `detectMultiScale` function executes the classifier stored in `face_cascade` and takes the grayscale image as a parameter.  \n",
    "\n",
    "In the above code, `faces` is a numpy array of detected faces, where each row corresponds to a detected face.  Each detected face is a 1D array with four entries that specifies the bounding box of the detected face.  The first two entries in the array (extracted in the above code as `x` and `y`) specify the horizontal and vertical positions of the top left corner of the bounding box.  The last two entries in the array (extracted here as `w` and `h`) specify the width and height of the box.\n",
    "\n",
    "### Write a Human Face Detector\n",
    "\n",
    "We can use this procedure to write a function that returns `True` if a human face is detected in an image and `False` otherwise.  This function, aptly named `face_detector`, takes a string-valued file path to an image as input and appears in the code block below."
   ]
  },
  {
   "cell_type": "code",
   "execution_count": 4,
   "metadata": {
    "collapsed": true,
    "deletable": true,
    "editable": true
   },
   "outputs": [],
   "source": [
    "# returns \"True\" if face is detected in image stored at img_path\n",
    "def face_detector(img_path):\n",
    "    img = cv2.imread(img_path)\n",
    "    gray = cv2.cvtColor(img, cv2.COLOR_BGR2GRAY)\n",
    "    faces = face_cascade.detectMultiScale(gray)\n",
    "    return len(faces) > 0"
   ]
  },
  {
   "cell_type": "markdown",
   "metadata": {
    "deletable": true,
    "editable": true
   },
   "source": [
    "### (IMPLEMENTATION) Assess the Human Face Detector\n",
    "\n",
    "__Question 1:__ Use the code cell below to test the performance of the `face_detector` function.  \n",
    "- What percentage of the first 100 images in `human_files` have a detected human face?  \n",
    "- What percentage of the first 100 images in `dog_files` have a detected human face? \n",
    "\n",
    "Ideally, we would like 100% of human images with a detected face and 0% of dog images with a detected face.  You will see that our algorithm falls short of this goal, but still gives acceptable performance.  We extract the file paths for the first 100 images from each of the datasets and store them in the numpy arrays `human_files_short` and `dog_files_short`.\n",
    "\n",
    "__Answer:__  A human face is detected in 99% and 11% of human_files_short and dog_files_short respectively. "
   ]
  },
  {
   "cell_type": "code",
   "execution_count": 5,
   "metadata": {
    "collapsed": false,
    "deletable": true,
    "editable": true
   },
   "outputs": [
    {
     "name": "stdout",
     "output_type": "stream",
     "text": [
      "0.99\n",
      "0.11\n"
     ]
    }
   ],
   "source": [
    "human_files_short = human_files[:100]\n",
    "dog_files_short = train_files[:100]\n",
    "# Do NOT modify the code above this line.\n",
    "\n",
    "## TODO: Test the performance of the face_detector algorithm \n",
    "num_human_in_humanPic=0\n",
    "num_human_in_dogPic=0\n",
    "for human_file in human_files_short:\n",
    "    if face_detector(human_file):\n",
    "        num_human_in_humanPic += 1\n",
    "for dog_file in dog_files_short:\n",
    "    if face_detector(dog_file):\n",
    "        num_human_in_dogPic += 1\n",
    "\n",
    "print(num_human_in_humanPic/100)\n",
    "print(num_human_in_dogPic/100)\n",
    "## on the images in human_files_short and dog_files_short."
   ]
  },
  {
   "cell_type": "markdown",
   "metadata": {
    "deletable": true,
    "editable": true
   },
   "source": [
    "__Question 2:__ This algorithmic choice necessitates that we communicate to the user that we accept human images only when they provide a clear view of a face (otherwise, we risk having unneccessarily frustrated users!). In your opinion, is this a reasonable expectation to pose on the user? If not, can you think of a way to detect humans in images that does not necessitate an image with a clearly presented face?\n",
    "\n",
    "__Answer:__ I find it reasonable. Being a user of some face-recognizing APPs myself, I would personally understand that certain pictures can be treated well whereas others cannot and it is sometimes hilarious to play with them. So I think this kind of notice is tolerable. \n",
    "\n",
    "If we were to build a more robust model that can deal with faces in a variety of circumstances, like hidden in the shadow, partly presented or with a heavy makeup, etc., then I think some preprocessing on the image is necessary, like brightening the dark area. And another model needs to be trained to find humans not based on faces but on body shapes.\n",
    "\n",
    "We suggest the face detector from OpenCV as a potential way to detect human images in your algorithm, but you are free to explore other approaches, especially approaches that make use of deep learning :).  Please use the code cell below to design and test your own face detection algorithm.  If you decide to pursue this _optional_ task, report performance on each of the datasets."
   ]
  },
  {
   "cell_type": "code",
   "execution_count": null,
   "metadata": {
    "collapsed": true,
    "deletable": true,
    "editable": true
   },
   "outputs": [],
   "source": [
    "## (Optional) TODO: Report the performance of another  \n",
    "## face detection algorithm on the LFW dataset\n",
    "### Feel free to use as many code cells as needed."
   ]
  },
  {
   "cell_type": "markdown",
   "metadata": {
    "deletable": true,
    "editable": true
   },
   "source": [
    "---\n",
    "<a id='step2'></a>\n",
    "## Step 2: Detect Dogs\n",
    "\n",
    "In this section, we use a pre-trained [ResNet-50](http://ethereon.github.io/netscope/#/gist/db945b393d40bfa26006) model to detect dogs in images.  Our first line of code downloads the ResNet-50 model, along with weights that have been trained on [ImageNet](http://www.image-net.org/), a very large, very popular dataset used for image classification and other vision tasks.  ImageNet contains over 10 million URLs, each linking to an image containing an object from one of [1000 categories](https://gist.github.com/yrevar/942d3a0ac09ec9e5eb3a).  Given an image, this pre-trained ResNet-50 model returns a prediction (derived from the available categories in ImageNet) for the object that is contained in the image."
   ]
  },
  {
   "cell_type": "code",
   "execution_count": 6,
   "metadata": {
    "collapsed": true,
    "deletable": true,
    "editable": true
   },
   "outputs": [],
   "source": [
    "from keras.applications.resnet50 import ResNet50\n",
    "\n",
    "# define ResNet50 model\n",
    "ResNet50_model = ResNet50(weights='imagenet')"
   ]
  },
  {
   "cell_type": "markdown",
   "metadata": {
    "deletable": true,
    "editable": true
   },
   "source": [
    "### Pre-process the Data\n",
    "\n",
    "When using TensorFlow as backend, Keras CNNs require a 4D array (which we'll also refer to as a 4D tensor) as input, with shape\n",
    "\n",
    "$$\n",
    "(\\text{nb_samples}, \\text{rows}, \\text{columns}, \\text{channels}),\n",
    "$$\n",
    "\n",
    "where `nb_samples` corresponds to the total number of images (or samples), and `rows`, `columns`, and `channels` correspond to the number of rows, columns, and channels for each image, respectively.  \n",
    "\n",
    "The `path_to_tensor` function below takes a string-valued file path to a color image as input and returns a 4D tensor suitable for supplying to a Keras CNN.  The function first loads the image and resizes it to a square image that is $224 \\times 224$ pixels.  Next, the image is converted to an array, which is then resized to a 4D tensor.  In this case, since we are working with color images, each image has three channels.  Likewise, since we are processing a single image (or sample), the returned tensor will always have shape\n",
    "\n",
    "$$\n",
    "(1, 224, 224, 3).\n",
    "$$\n",
    "\n",
    "The `paths_to_tensor` function takes a numpy array of string-valued image paths as input and returns a 4D tensor with shape \n",
    "\n",
    "$$\n",
    "(\\text{nb_samples}, 224, 224, 3).\n",
    "$$\n",
    "\n",
    "Here, `nb_samples` is the number of samples, or number of images, in the supplied array of image paths.  It is best to think of `nb_samples` as the number of 3D tensors (where each 3D tensor corresponds to a different image) in your dataset!"
   ]
  },
  {
   "cell_type": "code",
   "execution_count": 12,
   "metadata": {
    "collapsed": true,
    "deletable": true,
    "editable": true
   },
   "outputs": [],
   "source": [
    "from keras.preprocessing import image                  \n",
    "from tqdm import tqdm\n",
    "\n",
    "def path_to_tensor(img_path):\n",
    "    # loads RGB image as PIL.Image.Image type\n",
    "    img = image.load_img(img_path, target_size=(224, 224))\n",
    "    # convert PIL.Image.Image type to 3D tensor with shape (224, 224, 3)\n",
    "    x = image.img_to_array(img)\n",
    "    # convert 3D tensor to 4D tensor with shape (1, 224, 224, 3) and return 4D tensor\n",
    "    return np.expand_dims(x, axis=0)\n",
    "\n",
    "def paths_to_tensor(img_paths):\n",
    "    list_of_tensors = [path_to_tensor(img_path) for img_path in tqdm(img_paths)]\n",
    "    return np.vstack(list_of_tensors)"
   ]
  },
  {
   "cell_type": "markdown",
   "metadata": {
    "deletable": true,
    "editable": true
   },
   "source": [
    "### Making Predictions with ResNet-50\n",
    "\n",
    "Getting the 4D tensor ready for ResNet-50, and for any other pre-trained model in Keras, requires some additional processing.  First, the RGB image is converted to BGR by reordering the channels.  All pre-trained models have the additional normalization step that the mean pixel (expressed in RGB as $[103.939, 116.779, 123.68]$ and calculated from all pixels in all images in ImageNet) must be subtracted from every pixel in each image.  This is implemented in the imported function `preprocess_input`.  If you're curious, you can check the code for `preprocess_input` [here](https://github.com/fchollet/keras/blob/master/keras/applications/imagenet_utils.py).\n",
    "\n",
    "Now that we have a way to format our image for supplying to ResNet-50, we are now ready to use the model to extract the predictions.  This is accomplished with the `predict` method, which returns an array whose $i$-th entry is the model's predicted probability that the image belongs to the $i$-th ImageNet category.  This is implemented in the `ResNet50_predict_labels` function below.\n",
    "\n",
    "By taking the argmax of the predicted probability vector, we obtain an integer corresponding to the model's predicted object class, which we can identify with an object category through the use of this [dictionary](https://gist.github.com/yrevar/942d3a0ac09ec9e5eb3a). "
   ]
  },
  {
   "cell_type": "code",
   "execution_count": 8,
   "metadata": {
    "collapsed": true,
    "deletable": true,
    "editable": true
   },
   "outputs": [],
   "source": [
    "from keras.applications.resnet50 import preprocess_input, decode_predictions\n",
    "\n",
    "def ResNet50_predict_labels(img_path):\n",
    "    # returns prediction vector for image located at img_path\n",
    "    img = preprocess_input(path_to_tensor(img_path))\n",
    "    return np.argmax(ResNet50_model.predict(img))"
   ]
  },
  {
   "cell_type": "markdown",
   "metadata": {
    "deletable": true,
    "editable": true
   },
   "source": [
    "### Write a Dog Detector\n",
    "\n",
    "While looking at the [dictionary](https://gist.github.com/yrevar/942d3a0ac09ec9e5eb3a), you will notice that the categories corresponding to dogs appear in an uninterrupted sequence and correspond to dictionary keys 151-268, inclusive, to include all categories from `'Chihuahua'` to `'Mexican hairless'`.  Thus, in order to check to see if an image is predicted to contain a dog by the pre-trained ResNet-50 model, we need only check if the `ResNet50_predict_labels` function above returns a value between 151 and 268 (inclusive).\n",
    "\n",
    "We use these ideas to complete the `dog_detector` function below, which returns `True` if a dog is detected in an image (and `False` if not)."
   ]
  },
  {
   "cell_type": "code",
   "execution_count": 9,
   "metadata": {
    "collapsed": true,
    "deletable": true,
    "editable": true
   },
   "outputs": [],
   "source": [
    "### returns \"True\" if a dog is detected in the image stored at img_path\n",
    "def dog_detector(img_path):\n",
    "    prediction = ResNet50_predict_labels(img_path)\n",
    "    return ((prediction <= 268) & (prediction >= 151)) "
   ]
  },
  {
   "cell_type": "markdown",
   "metadata": {
    "deletable": true,
    "editable": true
   },
   "source": [
    "__Question 3:__ Use the code cell below to test the performance of your `dog_detector` function.  \n",
    "- What percentage of the images in `human_files_short` have a detected dog?  \n",
    "- What percentage of the images in `dog_files_short` have a detected dog?\n",
    "\n",
    "__Answer:__ 1% of images in `human_files_short` have a detected dog; 100% images in `dog_files_short` have a detected dog;"
   ]
  },
  {
   "cell_type": "code",
   "execution_count": 10,
   "metadata": {
    "collapsed": false,
    "deletable": true,
    "editable": true
   },
   "outputs": [
    {
     "name": "stdout",
     "output_type": "stream",
     "text": [
      "1.0\n",
      "0.01\n"
     ]
    }
   ],
   "source": [
    "### TODO: Test the performance of the dog_detector function\n",
    "\n",
    "num_dog_in_humanPic=0\n",
    "for human_file in human_files_short:\n",
    "    if dog_detector(human_file):\n",
    "        num_dog_in_humanPic += 1\n",
    "\n",
    "num_dog_in_dogPic=0\n",
    "for dog_file in dog_files_short:\n",
    "    if dog_detector(dog_file):\n",
    "        num_dog_in_dogPic += 1\n",
    "\n",
    "print(num_dog_in_dogPic/100)\n",
    "print(num_dog_in_humanPic/100)\n",
    "\n",
    "### on the images in human_files_short and dog_files_short."
   ]
  },
  {
   "cell_type": "markdown",
   "metadata": {
    "deletable": true,
    "editable": true
   },
   "source": [
    "---\n",
    "<a id='step3'></a>\n",
    "## Step 3: Create a CNN to Classify Dog Breeds (from Scratch)\n",
    "\n",
    "Now that we have functions for detecting humans and dogs in images, we need a way to predict breed from images.  In this step, you will create a CNN that classifies dog breeds.  You must create your CNN _from scratch_ (so, you can't use transfer learning _yet_!), and you must attain a test accuracy of at least 1%.  In Step 5 of this notebook, you will have the opportunity to use transfer learning to create a CNN that attains greatly improved accuracy.\n",
    "\n",
    "Be careful with adding too many trainable layers!  More parameters means longer training, which means you are more likely to need a GPU to accelerate the training process.  Thankfully, Keras provides a handy estimate of the time that each epoch is likely to take; you can extrapolate this estimate to figure out how long it will take for your algorithm to train. \n",
    "\n",
    "We mention that the task of assigning breed to dogs from images is considered exceptionally challenging.  To see why, consider that *even a human* would have great difficulty in distinguishing between a Brittany and a Welsh Springer Spaniel.  \n",
    "\n",
    "Brittany | Welsh Springer Spaniel\n",
    "- | - \n",
    "<img src=\"images/Brittany_02625.jpg\" width=\"100\"> | <img src=\"images/Welsh_springer_spaniel_08203.jpg\" width=\"200\">\n",
    "\n",
    "It is not difficult to find other dog breed pairs with minimal inter-class variation (for instance, Curly-Coated Retrievers and American Water Spaniels).  \n",
    "\n",
    "Curly-Coated Retriever | American Water Spaniel\n",
    "- | -\n",
    "<img src=\"images/Curly-coated_retriever_03896.jpg\" width=\"200\"> | <img src=\"images/American_water_spaniel_00648.jpg\" width=\"200\">\n",
    "\n",
    "\n",
    "Likewise, recall that labradors come in yellow, chocolate, and black.  Your vision-based algorithm will have to conquer this high intra-class variation to determine how to classify all of these different shades as the same breed.  \n",
    "\n",
    "Yellow Labrador | Chocolate Labrador | Black Labrador\n",
    "- | -\n",
    "<img src=\"images/Labrador_retriever_06457.jpg\" width=\"150\"> | <img src=\"images/Labrador_retriever_06455.jpg\" width=\"240\"> | <img src=\"images/Labrador_retriever_06449.jpg\" width=\"220\">\n",
    "\n",
    "We also mention that random chance presents an exceptionally low bar: setting aside the fact that the classes are slightly imabalanced, a random guess will provide a correct answer roughly 1 in 133 times, which corresponds to an accuracy of less than 1%.  \n",
    "\n",
    "Remember that the practice is far ahead of the theory in deep learning.  Experiment with many different architectures, and trust your intuition.  And, of course, have fun! \n",
    "\n",
    "### Pre-process the Data\n",
    "\n",
    "We rescale the images by dividing every pixel in every image by 255."
   ]
  },
  {
   "cell_type": "code",
   "execution_count": 10,
   "metadata": {
    "collapsed": false,
    "deletable": true,
    "editable": true
   },
   "outputs": [
    {
     "name": "stderr",
     "output_type": "stream",
     "text": [
      "100%|██████████| 6680/6680 [02:27<00:00, 45.43it/s]\n",
      "100%|██████████| 835/835 [00:16<00:00, 57.54it/s]\n",
      "100%|██████████| 836/836 [00:18<00:00, 46.34it/s]\n"
     ]
    }
   ],
   "source": [
    "from PIL import ImageFile                            \n",
    "ImageFile.LOAD_TRUNCATED_IMAGES = True                 \n",
    "\n",
    "# pre-process the data for Keras\n",
    "train_tensors = paths_to_tensor(train_files).astype('float32')/255\n",
    "valid_tensors = paths_to_tensor(valid_files).astype('float32')/255\n",
    "test_tensors = paths_to_tensor(test_files).astype('float32')/255"
   ]
  },
  {
   "cell_type": "markdown",
   "metadata": {
    "deletable": true,
    "editable": true
   },
   "source": [
    "### (IMPLEMENTATION) Model Architecture\n",
    "\n",
    "Create a CNN to classify dog breed.  At the end of your code cell block, summarize the layers of your model by executing the line:\n",
    "    \n",
    "        model.summary()\n",
    "\n",
    "We have imported some Python modules to get you started, but feel free to import as many modules as you need.  If you end up getting stuck, here's a hint that specifies a model that trains relatively fast on CPU and attains >1% test accuracy in 5 epochs:\n",
    "\n",
    "![Sample CNN](images/sample_cnn.png)\n",
    "           \n",
    "__Question 4:__ Outline the steps you took to get to your final CNN architecture and your reasoning at each step.  If you chose to use the hinted architecture above, describe why you think that CNN architecture should work well for the image classification task.\n",
    "\n",
    "__Answer:__ I used the hinted architecture as a benchmark model. Then I tried the following three models:\n",
    "* A mini-VGG architecture: the model has 4 Conv-Pool steps and a final AveragePool-Dense layer for output;\n",
    "* A mini-Inception architecture: this one is an imitation of the Inception network. It consists of two modules, each has a Conv1, Conv3, Conv5 and a MaxPool;\n",
    "* A mini-ResNet-50 architecture: it has two residual modules.\n",
    "\n",
    "In order to make their result comparable, I don't want their number of trainable parameters to be too different from each other, so model arguments are chosen accordingly."
   ]
  },
  {
   "cell_type": "code",
   "execution_count": 12,
   "metadata": {
    "collapsed": false,
    "deletable": true,
    "editable": true
   },
   "outputs": [
    {
     "name": "stdout",
     "output_type": "stream",
     "text": [
      "_________________________________________________________________\n",
      "Layer (type)                 Output Shape              Param #   \n",
      "=================================================================\n",
      "conv2d_1 (Conv2D)            (None, 224, 224, 16)      208       \n",
      "_________________________________________________________________\n",
      "max_pooling2d_2 (MaxPooling2 (None, 112, 112, 16)      0         \n",
      "_________________________________________________________________\n",
      "conv2d_2 (Conv2D)            (None, 112, 112, 32)      2080      \n",
      "_________________________________________________________________\n",
      "max_pooling2d_3 (MaxPooling2 (None, 56, 56, 32)        0         \n",
      "_________________________________________________________________\n",
      "conv2d_3 (Conv2D)            (None, 56, 56, 64)        8256      \n",
      "_________________________________________________________________\n",
      "max_pooling2d_4 (MaxPooling2 (None, 28, 28, 64)        0         \n",
      "_________________________________________________________________\n",
      "global_average_pooling2d_1 ( (None, 64)                0         \n",
      "_________________________________________________________________\n",
      "dense_1 (Dense)              (None, 133)               8645      \n",
      "=================================================================\n",
      "Total params: 19,189.0\n",
      "Trainable params: 19,189.0\n",
      "Non-trainable params: 0.0\n",
      "_________________________________________________________________\n"
     ]
    }
   ],
   "source": [
    "from keras.layers import Conv2D, MaxPooling2D, GlobalAveragePooling2D\n",
    "from keras.layers import Dropout, Flatten, Dense\n",
    "from keras.models import Sequential\n",
    "\n",
    "BenchmarkModel = Sequential()\n",
    "\n",
    "### TODO: Define your architecture.\n",
    "BenchmarkModel = Sequential()\n",
    "BenchmarkModel.add(Conv2D(filters=16, kernel_size=2, padding='same', activation='relu', \n",
    "                        input_shape=(224, 224, 3)))\n",
    "BenchmarkModel.add(MaxPooling2D(pool_size=2))\n",
    "BenchmarkModel.add(Conv2D(filters=32, kernel_size=2, padding='same', activation='relu'))\n",
    "BenchmarkModel.add(MaxPooling2D(pool_size=2))\n",
    "BenchmarkModel.add(Conv2D(filters=64, kernel_size=2, padding='same', activation='relu'))\n",
    "BenchmarkModel.add(MaxPooling2D(pool_size=2))\n",
    "BenchmarkModel.add(GlobalAveragePooling2D())\n",
    "BenchmarkModel.add(Dense(133, activation='softmax'))\n",
    "\n",
    "BenchmarkModel.summary()"
   ]
  },
  {
   "cell_type": "code",
   "execution_count": 26,
   "metadata": {
    "collapsed": false,
    "deletable": true,
    "editable": true
   },
   "outputs": [
    {
     "name": "stdout",
     "output_type": "stream",
     "text": [
      "_________________________________________________________________\n",
      "Layer (type)                 Output Shape              Param #   \n",
      "=================================================================\n",
      "conv2d_30 (Conv2D)           (None, 224, 224, 16)      208       \n",
      "_________________________________________________________________\n",
      "max_pooling2d_19 (MaxPooling (None, 112, 112, 16)      0         \n",
      "_________________________________________________________________\n",
      "conv2d_31 (Conv2D)           (None, 112, 112, 32)      2080      \n",
      "_________________________________________________________________\n",
      "max_pooling2d_20 (MaxPooling (None, 56, 56, 32)        0         \n",
      "_________________________________________________________________\n",
      "conv2d_32 (Conv2D)           (None, 56, 56, 64)        8256      \n",
      "_________________________________________________________________\n",
      "max_pooling2d_21 (MaxPooling (None, 28, 28, 64)        0         \n",
      "_________________________________________________________________\n",
      "conv2d_33 (Conv2D)           (None, 28, 28, 128)       32896     \n",
      "_________________________________________________________________\n",
      "max_pooling2d_22 (MaxPooling (None, 14, 14, 128)       0         \n",
      "_________________________________________________________________\n",
      "global_average_pooling2d_5 ( (None, 128)               0         \n",
      "_________________________________________________________________\n",
      "dense_5 (Dense)              (None, 133)               17157     \n",
      "=================================================================\n",
      "Total params: 60,597.0\n",
      "Trainable params: 60,597.0\n",
      "Non-trainable params: 0.0\n",
      "_________________________________________________________________\n"
     ]
    }
   ],
   "source": [
    "from keras.layers import Conv2D, MaxPooling2D, GlobalAveragePooling2D\n",
    "from keras.layers import Dropout, Flatten, Dense\n",
    "from keras.models import Sequential\n",
    "\n",
    "MiniVGGModel = Sequential()\n",
    "\n",
    "### TODO: Define your architecture.\n",
    "MiniVGGModel = Sequential()\n",
    "MiniVGGModel.add(Conv2D(filters=16, kernel_size=2, padding='same', activation='relu', \n",
    "                        input_shape=(224, 224, 3)))\n",
    "MiniVGGModel.add(MaxPooling2D(pool_size=2))\n",
    "MiniVGGModel.add(Conv2D(filters=32, kernel_size=2, padding='same', activation='relu'))\n",
    "MiniVGGModel.add(MaxPooling2D(pool_size=2))\n",
    "MiniVGGModel.add(Conv2D(filters=64, kernel_size=2, padding='same', activation='relu'))\n",
    "MiniVGGModel.add(MaxPooling2D(pool_size=2))\n",
    "MiniVGGModel.add(Conv2D(filters=128, kernel_size=2, padding='same', activation='relu'))\n",
    "MiniVGGModel.add(MaxPooling2D(pool_size=2))\n",
    "MiniVGGModel.add(GlobalAveragePooling2D())\n",
    "MiniVGGModel.add(Dense(133, activation='softmax'))\n",
    "\n",
    "MiniVGGModel.summary()"
   ]
  },
  {
   "cell_type": "code",
   "execution_count": 17,
   "metadata": {
    "collapsed": false,
    "deletable": true,
    "editable": true
   },
   "outputs": [
    {
     "name": "stdout",
     "output_type": "stream",
     "text": [
      "____________________________________________________________________________________________________\n",
      "Layer (type)                     Output Shape          Param #     Connected to                     \n",
      "====================================================================================================\n",
      "input_3 (InputLayer)             (None, 224, 224, 3)   0                                            \n",
      "____________________________________________________________________________________________________\n",
      "conv2d_19 (Conv2D)               (None, 224, 224, 16)  2368                                         \n",
      "____________________________________________________________________________________________________\n",
      "max_pooling2d_14 (MaxPooling2D)  (None, 112, 112, 16)  0                                            \n",
      "____________________________________________________________________________________________________\n",
      "conv2d_20 (Conv2D)               (None, 112, 112, 32)  544                                          \n",
      "____________________________________________________________________________________________________\n",
      "conv2d_21 (Conv2D)               (None, 112, 112, 64)  9280                                         \n",
      "____________________________________________________________________________________________________\n",
      "conv2d_22 (Conv2D)               (None, 112, 112, 16)  6416                                         \n",
      "____________________________________________________________________________________________________\n",
      "conv2d_23 (Conv2D)               (None, 112, 112, 16)  272                                          \n",
      "____________________________________________________________________________________________________\n",
      "concatenate_3 (Concatenate)      (None, 112, 112, 128) 0                                            \n",
      "____________________________________________________________________________________________________\n",
      "max_pooling2d_16 (MaxPooling2D)  (None, 56, 56, 128)   0                                            \n",
      "____________________________________________________________________________________________________\n",
      "conv2d_25 (Conv2D)               (None, 56, 56, 16)    2064                                         \n",
      "____________________________________________________________________________________________________\n",
      "conv2d_27 (Conv2D)               (None, 56, 56, 8)     1032                                         \n",
      "____________________________________________________________________________________________________\n",
      "max_pooling2d_17 (MaxPooling2D)  (None, 56, 56, 128)   0                                            \n",
      "____________________________________________________________________________________________________\n",
      "conv2d_24 (Conv2D)               (None, 56, 56, 32)    4128                                         \n",
      "____________________________________________________________________________________________________\n",
      "conv2d_26 (Conv2D)               (None, 56, 56, 64)    9280                                         \n",
      "____________________________________________________________________________________________________\n",
      "conv2d_28 (Conv2D)               (None, 56, 56, 16)    3216                                         \n",
      "____________________________________________________________________________________________________\n",
      "conv2d_29 (Conv2D)               (None, 56, 56, 16)    2064                                         \n",
      "____________________________________________________________________________________________________\n",
      "concatenate_4 (Concatenate)      (None, 56, 56, 128)   0                                            \n",
      "____________________________________________________________________________________________________\n",
      "max_pooling2d_18 (MaxPooling2D)  (None, 8, 8, 128)     0                                            \n",
      "____________________________________________________________________________________________________\n",
      "global_average_pooling2d_4 (Glob (None, 128)           0                                            \n",
      "____________________________________________________________________________________________________\n",
      "dense_4 (Dense)                  (None, 133)           17157                                        \n",
      "====================================================================================================\n",
      "Total params: 57,821.0\n",
      "Trainable params: 57,821.0\n",
      "Non-trainable params: 0.0\n",
      "____________________________________________________________________________________________________\n"
     ]
    }
   ],
   "source": [
    "from keras.layers import Input, concatenate, AveragePooling2D, Activation\n",
    "from keras.layers import Conv2D, MaxPooling2D, GlobalAveragePooling2D\n",
    "from keras.layers import Dropout, Flatten, Dense\n",
    "from keras.models import Model\n",
    "\n",
    "input_img = Input(shape=(224, 224, 3))\n",
    "\n",
    "conv1_7x7 = Conv2D(16, (7,7), padding='same', activation='relu')(input_img)\n",
    "pool1_3x3 = MaxPooling2D(pool_size=3, strides=(2,2), padding='same')(conv1_7x7)\n",
    "\n",
    "# following is the first inception without bottleneck \n",
    "incep1_Conv1x1 = Conv2D(32, (1, 1), padding='same', activation='relu')(pool1_3x3)\n",
    "incep1_Conv3x3 = Conv2D(64, (3, 3), padding='same', activation='relu')(pool1_3x3)\n",
    "incep1_Conv5x5 = Conv2D(16, (5, 5), padding='same', activation='relu')(pool1_3x3)\n",
    "incep1_Pool = MaxPooling2D((3, 3), strides=(1, 1), padding='same')(pool1_3x3)\n",
    "incep1_Pool = Conv2D(16, (1, 1), padding='same', activation='relu')(pool1_3x3)\n",
    "incep1_output = concatenate([incep1_Conv1x1, incep1_Conv3x3, incep1_Conv5x5, incep1_Pool], axis=-1)\n",
    "\n",
    "pool2_3x3 = MaxPooling2D(pool_size=3, strides=(2,2), padding='same')(incep1_output)\n",
    "\n",
    "# following is the second inception with bottleneck\n",
    "incep2_Conv1x1 = Conv2D(32, (1, 1), padding='same', activation='relu')(pool2_3x3)\n",
    "incep2_Conv3x3 = Conv2D(16, (1, 1), padding='same', activation='relu')(pool2_3x3)\n",
    "incep2_Conv3x3 = Conv2D(64, (3, 3), padding='same', activation='relu')(incep2_Conv3x3)\n",
    "incep2_Conv5x5 = Conv2D(8, (1, 1), padding='same', activation='relu')(pool2_3x3)\n",
    "incep2_Conv5x5 = Conv2D(16, (5, 5), padding='same', activation='relu')(incep2_Conv5x5)\n",
    "incep2_Pool = MaxPooling2D((3, 3), strides=(1, 1), padding='same')(pool2_3x3)\n",
    "incep2_Pool = Conv2D(16, (1, 1), padding='same', activation='relu')(incep2_Pool)\n",
    "incep2_output = concatenate([incep2_Conv1x1, incep2_Conv3x3, incep2_Conv5x5, incep2_Pool], axis=-1)\n",
    "\n",
    "loss1_max_pool = MaxPooling2D((7, 7))(incep2_output)\n",
    "loss1_ave_pool = GlobalAveragePooling2D()(loss1_max_pool)\n",
    "loss1_classifier = Dense(133,activation='softmax')(loss1_ave_pool)    \n",
    "\n",
    "MiniInceptionModel = Model(inputs=input_img, outputs=loss1_classifier)\n",
    "                       \n",
    "MiniInceptionModel.summary()                  "
   ]
  },
  {
   "cell_type": "code",
   "execution_count": 38,
   "metadata": {
    "collapsed": false,
    "deletable": true,
    "editable": true
   },
   "outputs": [
    {
     "name": "stdout",
     "output_type": "stream",
     "text": [
      "____________________________________________________________________________________________________\n",
      "Layer (type)                     Output Shape          Param #     Connected to                     \n",
      "====================================================================================================\n",
      "input_5 (InputLayer)             (None, 224, 224, 3)   0                                            \n",
      "____________________________________________________________________________________________________\n",
      "conv2d_43 (Conv2D)               (None, 112, 112, 16)  2368                                         \n",
      "____________________________________________________________________________________________________\n",
      "max_pooling2d_24 (MaxPooling2D)  (None, 56, 56, 16)    0                                            \n",
      "____________________________________________________________________________________________________\n",
      "conv2d_44 (Conv2D)               (None, 56, 56, 16)    272                                          \n",
      "____________________________________________________________________________________________________\n",
      "conv2d_45 (Conv2D)               (None, 56, 56, 16)    2320                                         \n",
      "____________________________________________________________________________________________________\n",
      "conv2d_47 (Conv2D)               (None, 56, 56, 32)    544                                          \n",
      "____________________________________________________________________________________________________\n",
      "conv2d_46 (Conv2D)               (None, 56, 56, 32)    544                                          \n",
      "____________________________________________________________________________________________________\n",
      "add_19 (Add)                     (None, 56, 56, 32)    0                                            \n",
      "____________________________________________________________________________________________________\n",
      "conv2d_48 (Conv2D)               (None, 28, 28, 32)    1056                                         \n",
      "____________________________________________________________________________________________________\n",
      "conv2d_49 (Conv2D)               (None, 28, 28, 32)    9248                                         \n",
      "____________________________________________________________________________________________________\n",
      "conv2d_51 (Conv2D)               (None, 28, 28, 128)   4224                                         \n",
      "____________________________________________________________________________________________________\n",
      "conv2d_50 (Conv2D)               (None, 28, 28, 128)   4224                                         \n",
      "____________________________________________________________________________________________________\n",
      "add_20 (Add)                     (None, 28, 28, 128)   0                                            \n",
      "____________________________________________________________________________________________________\n",
      "global_average_pooling2d_7 (Glob (None, 128)           0                                            \n",
      "____________________________________________________________________________________________________\n",
      "dense_7 (Dense)                  (None, 133)           17157                                        \n",
      "====================================================================================================\n",
      "Total params: 41,957.0\n",
      "Trainable params: 41,957.0\n",
      "Non-trainable params: 0.0\n",
      "____________________________________________________________________________________________________\n"
     ]
    }
   ],
   "source": [
    "from keras.layers import Input, concatenate, AveragePooling2D, GlobalAveragePooling2D, Activation\n",
    "from keras.layers import Conv2D, MaxPooling2D, Dropout, Flatten, Dense, add\n",
    "from keras.models import Model\n",
    "\n",
    "input_img = Input(shape=(224, 224, 3))\n",
    "\n",
    "conv7x7 = Conv2D(16, (7, 7), strides = (2, 2), padding = 'same', activation = 'relu')(input_img)\n",
    "pool3x3 = MaxPooling2D((3, 3), strides = (2, 2), padding = 'same')(conv7x7)\n",
    "\n",
    "# the first residual module\n",
    "res1_bottleneck_i = Conv2D(16, (1, 1), padding = 'same', activation = 'relu')(pool3x3)\n",
    "res1_conv3x3 = Conv2D(16, (3, 3), padding = 'same', activation = 'relu')(res1_bottleneck_i)\n",
    "res1_bottleneck_o = Conv2D(32, (1, 1), padding = 'same', activation = 'relu')(res1_conv3x3)\n",
    "\n",
    "shortcut1 = Conv2D(32, (1, 1), padding = 'same', activation = 'relu')(pool3x3)\n",
    "output1 = add([shortcut1, res1_bottleneck_o])\n",
    "\n",
    "# the second residual module\n",
    "res2_bottleneck_i = Conv2D(32, (1, 1), strides = (2, 2), padding = 'same', activation = 'relu')(output1)\n",
    "res2_conv3x3 = Conv2D(32, (3, 3), padding = 'same', activation = 'relu')(res2_bottleneck_i)\n",
    "res2_bottleneck_o = Conv2D(128, (1, 1), padding = 'same', activation = 'relu')(res2_conv3x3)\n",
    "\n",
    "shortcut2 = Conv2D(128, (1, 1), strides = (2, 2), padding = 'same', activation = 'relu')(output1)\n",
    "output2 = add([shortcut2, res2_bottleneck_o])\n",
    "\n",
    "loss_ave_pool = GlobalAveragePooling2D()(output2)\n",
    "loss_classifier = Dense(133, activation = 'softmax')(loss_ave_pool)\n",
    "MiniResNetModel = Model(inputs=input_img, outputs=loss_classifier)\n",
    "\n",
    "MiniResNetModel.summary()"
   ]
  },
  {
   "cell_type": "markdown",
   "metadata": {
    "deletable": true,
    "editable": true
   },
   "source": [
    "### Compile the Model"
   ]
  },
  {
   "cell_type": "code",
   "execution_count": 13,
   "metadata": {
    "collapsed": true,
    "deletable": true,
    "editable": true
   },
   "outputs": [],
   "source": [
    "BenchmarkModel.compile(optimizer='rmsprop', loss='categorical_crossentropy', metrics=['accuracy'])"
   ]
  },
  {
   "cell_type": "code",
   "execution_count": 27,
   "metadata": {
    "collapsed": true,
    "deletable": true,
    "editable": true
   },
   "outputs": [],
   "source": [
    "MiniVGGModel.compile(optimizer='rmsprop', loss='categorical_crossentropy', metrics=['accuracy'])"
   ]
  },
  {
   "cell_type": "code",
   "execution_count": 19,
   "metadata": {
    "collapsed": true,
    "deletable": true,
    "editable": true
   },
   "outputs": [],
   "source": [
    "MiniInceptionModel.compile(optimizer='rmsprop', loss='categorical_crossentropy', metrics=['accuracy'])"
   ]
  },
  {
   "cell_type": "code",
   "execution_count": 39,
   "metadata": {
    "collapsed": true,
    "deletable": true,
    "editable": true
   },
   "outputs": [],
   "source": [
    "MiniResNetModel.compile(optimizer='rmsprop', loss='categorical_crossentropy', metrics=['accuracy'])"
   ]
  },
  {
   "cell_type": "markdown",
   "metadata": {
    "deletable": true,
    "editable": true
   },
   "source": [
    "### (IMPLEMENTATION) Train the Model\n",
    "\n",
    "Train your model in the code cell below.  Use model checkpointing to save the model that attains the best validation loss.\n",
    "\n",
    "You are welcome to [augment the training data](https://blog.keras.io/building-powerful-image-classification-models-using-very-little-data.html), but this is not a requirement. "
   ]
  },
  {
   "cell_type": "code",
   "execution_count": 23,
   "metadata": {
    "collapsed": false,
    "deletable": true,
    "editable": true
   },
   "outputs": [
    {
     "name": "stdout",
     "output_type": "stream",
     "text": [
      "Train on 6680 samples, validate on 835 samples\n",
      "Epoch 1/20\n",
      "Epoch 00000: val_loss improved from inf to 4.55723, saving model to saved_models/weights.best.BenchmarkModel.hdf5\n",
      "185s - loss: 4.4287 - acc: 0.0581 - val_loss: 4.5572 - val_acc: 0.0431\n",
      "Epoch 2/20\n",
      "Epoch 00001: val_loss did not improve\n",
      "185s - loss: 4.4113 - acc: 0.0570 - val_loss: 4.6137 - val_acc: 0.0455\n",
      "Epoch 3/20\n",
      "Epoch 00002: val_loss improved from 4.55723 to 4.52896, saving model to saved_models/weights.best.BenchmarkModel.hdf5\n",
      "185s - loss: 4.3918 - acc: 0.0581 - val_loss: 4.5290 - val_acc: 0.0407\n",
      "Epoch 4/20\n",
      "Epoch 00003: val_loss did not improve\n",
      "190s - loss: 4.3780 - acc: 0.0645 - val_loss: 4.5789 - val_acc: 0.0443\n",
      "Epoch 5/20\n",
      "Epoch 00004: val_loss improved from 4.52896 to 4.51415, saving model to saved_models/weights.best.BenchmarkModel.hdf5\n",
      "193s - loss: 4.3596 - acc: 0.0645 - val_loss: 4.5141 - val_acc: 0.0503\n",
      "Epoch 6/20\n",
      "Epoch 00005: val_loss improved from 4.51415 to 4.49280, saving model to saved_models/weights.best.BenchmarkModel.hdf5\n",
      "185s - loss: 4.3415 - acc: 0.0665 - val_loss: 4.4928 - val_acc: 0.0575\n",
      "Epoch 7/20\n",
      "Epoch 00006: val_loss improved from 4.49280 to 4.48986, saving model to saved_models/weights.best.BenchmarkModel.hdf5\n",
      "184s - loss: 4.3165 - acc: 0.0702 - val_loss: 4.4899 - val_acc: 0.0503\n",
      "Epoch 8/20\n",
      "Epoch 00007: val_loss did not improve\n",
      "190s - loss: 4.3046 - acc: 0.0711 - val_loss: 4.5313 - val_acc: 0.0503\n",
      "Epoch 9/20\n",
      "Epoch 00008: val_loss improved from 4.48986 to 4.47876, saving model to saved_models/weights.best.BenchmarkModel.hdf5\n",
      "195s - loss: 4.2867 - acc: 0.0690 - val_loss: 4.4788 - val_acc: 0.0515\n",
      "Epoch 10/20\n",
      "Epoch 00009: val_loss improved from 4.47876 to 4.44975, saving model to saved_models/weights.best.BenchmarkModel.hdf5\n",
      "185s - loss: 4.2698 - acc: 0.0713 - val_loss: 4.4498 - val_acc: 0.0527\n",
      "Epoch 11/20\n",
      "Epoch 00010: val_loss improved from 4.44975 to 4.44047, saving model to saved_models/weights.best.BenchmarkModel.hdf5\n",
      "187s - loss: 4.2506 - acc: 0.0760 - val_loss: 4.4405 - val_acc: 0.0575\n",
      "Epoch 12/20\n",
      "Epoch 00011: val_loss did not improve\n",
      "186s - loss: 4.2336 - acc: 0.0792 - val_loss: 4.4744 - val_acc: 0.0491\n",
      "Epoch 13/20\n",
      "Epoch 00012: val_loss improved from 4.44047 to 4.40121, saving model to saved_models/weights.best.BenchmarkModel.hdf5\n",
      "183s - loss: 4.2240 - acc: 0.0790 - val_loss: 4.4012 - val_acc: 0.0527\n",
      "Epoch 14/20\n",
      "Epoch 00013: val_loss did not improve\n",
      "184s - loss: 4.2085 - acc: 0.0816 - val_loss: 4.4178 - val_acc: 0.0587\n",
      "Epoch 15/20\n",
      "Epoch 00014: val_loss did not improve\n",
      "183s - loss: 4.1890 - acc: 0.0828 - val_loss: 4.4137 - val_acc: 0.0515\n",
      "Epoch 16/20\n",
      "Epoch 00015: val_loss improved from 4.40121 to 4.39318, saving model to saved_models/weights.best.BenchmarkModel.hdf5\n",
      "184s - loss: 4.1730 - acc: 0.0864 - val_loss: 4.3932 - val_acc: 0.0671\n",
      "Epoch 17/20\n",
      "Epoch 00016: val_loss improved from 4.39318 to 4.37916, saving model to saved_models/weights.best.BenchmarkModel.hdf5\n",
      "184s - loss: 4.1604 - acc: 0.0895 - val_loss: 4.3792 - val_acc: 0.0623\n",
      "Epoch 18/20\n",
      "Epoch 00017: val_loss did not improve\n",
      "186s - loss: 4.1414 - acc: 0.0889 - val_loss: 4.3978 - val_acc: 0.0719\n",
      "Epoch 19/20\n",
      "Epoch 00018: val_loss did not improve\n",
      "184s - loss: 4.1323 - acc: 0.0913 - val_loss: 4.4002 - val_acc: 0.0623\n",
      "Epoch 20/20\n",
      "Epoch 00019: val_loss did not improve\n",
      "174s - loss: 4.1174 - acc: 0.0906 - val_loss: 4.3811 - val_acc: 0.0635\n"
     ]
    }
   ],
   "source": [
    "from keras.callbacks import ModelCheckpoint  \n",
    "\n",
    "### TODO: specify the number of epochs that you would like to use to train the model.\n",
    "\n",
    "epochs = 20\n",
    "\n",
    "### Do NOT modify the code below this line.\n",
    "\n",
    "checkpointer = ModelCheckpoint(filepath='saved_models/weights.best.BenchmarkModel.hdf5', \n",
    "                               verbose=1, save_best_only=True)\n",
    "\n",
    "BenchmarkModelHistory = BenchmarkModel.fit(train_tensors, train_targets, \n",
    "          validation_data=(valid_tensors, valid_targets),\n",
    "          epochs=epochs, batch_size=20, callbacks=[checkpointer], verbose=2)"
   ]
  },
  {
   "cell_type": "code",
   "execution_count": 69,
   "metadata": {
    "collapsed": false,
    "deletable": true,
    "editable": true
   },
   "outputs": [
    {
     "name": "stdout",
     "output_type": "stream",
     "text": [
      "Train on 6680 samples, validate on 835 samples\n",
      "Epoch 1/40\n",
      "Epoch 00000: val_loss improved from inf to 4.30457, saving model to saved_models/weights.best.MiniVGGModel.hdf5\n",
      "174s - loss: 3.8567 - acc: 0.1192 - val_loss: 4.3046 - val_acc: 0.0946\n",
      "Epoch 2/40\n",
      "Epoch 00001: val_loss improved from 4.30457 to 4.19271, saving model to saved_models/weights.best.MiniVGGModel.hdf5\n",
      "170s - loss: 3.8231 - acc: 0.1301 - val_loss: 4.1927 - val_acc: 0.0874\n",
      "Epoch 3/40\n",
      "Epoch 00002: val_loss improved from 4.19271 to 4.17738, saving model to saved_models/weights.best.MiniVGGModel.hdf5\n",
      "170s - loss: 3.7986 - acc: 0.1302 - val_loss: 4.1774 - val_acc: 0.0874\n",
      "Epoch 4/40\n",
      "Epoch 00003: val_loss improved from 4.17738 to 4.08010, saving model to saved_models/weights.best.MiniVGGModel.hdf5\n",
      "170s - loss: 3.7675 - acc: 0.1320 - val_loss: 4.0801 - val_acc: 0.1030\n",
      "Epoch 5/40\n",
      "Epoch 00004: val_loss improved from 4.08010 to 4.04267, saving model to saved_models/weights.best.MiniVGGModel.hdf5\n",
      "170s - loss: 3.7437 - acc: 0.1406 - val_loss: 4.0427 - val_acc: 0.0934\n",
      "Epoch 6/40\n",
      "Epoch 00005: val_loss did not improve\n",
      "170s - loss: 3.7204 - acc: 0.1385 - val_loss: 4.0582 - val_acc: 0.1126\n",
      "Epoch 7/40\n",
      "Epoch 00006: val_loss did not improve\n",
      "170s - loss: 3.6721 - acc: 0.1400 - val_loss: 4.1532 - val_acc: 0.1102\n",
      "Epoch 8/40\n",
      "Epoch 00007: val_loss did not improve\n",
      "170s - loss: 3.6518 - acc: 0.1512 - val_loss: 4.0449 - val_acc: 0.1162\n",
      "Epoch 9/40\n",
      "Epoch 00008: val_loss improved from 4.04267 to 4.02824, saving model to saved_models/weights.best.MiniVGGModel.hdf5\n",
      "170s - loss: 3.6316 - acc: 0.1531 - val_loss: 4.0282 - val_acc: 0.1269\n",
      "Epoch 10/40\n",
      "Epoch 00009: val_loss improved from 4.02824 to 3.99901, saving model to saved_models/weights.best.MiniVGGModel.hdf5\n",
      "170s - loss: 3.5989 - acc: 0.1576 - val_loss: 3.9990 - val_acc: 0.1114\n",
      "Epoch 11/40\n",
      "Epoch 00010: val_loss did not improve\n",
      "170s - loss: 3.5701 - acc: 0.1654 - val_loss: 4.1752 - val_acc: 0.1150\n",
      "Epoch 12/40\n",
      "Epoch 00011: val_loss did not improve\n",
      "170s - loss: 3.5402 - acc: 0.1659 - val_loss: 3.9991 - val_acc: 0.1102\n",
      "Epoch 13/40\n",
      "Epoch 00012: val_loss did not improve\n",
      "170s - loss: 3.5172 - acc: 0.1740 - val_loss: 4.0056 - val_acc: 0.1305\n",
      "Epoch 14/40\n",
      "Epoch 00013: val_loss did not improve\n",
      "170s - loss: 3.4838 - acc: 0.1828 - val_loss: 4.0219 - val_acc: 0.1198\n",
      "Epoch 15/40\n",
      "Epoch 00014: val_loss improved from 3.99901 to 3.93977, saving model to saved_models/weights.best.MiniVGGModel.hdf5\n",
      "170s - loss: 3.4793 - acc: 0.1816 - val_loss: 3.9398 - val_acc: 0.1389\n",
      "Epoch 16/40\n",
      "Epoch 00015: val_loss did not improve\n",
      "170s - loss: 3.4475 - acc: 0.1885 - val_loss: 3.9865 - val_acc: 0.1341\n",
      "Epoch 17/40\n",
      "Epoch 00016: val_loss did not improve\n",
      "170s - loss: 3.4223 - acc: 0.1883 - val_loss: 4.2755 - val_acc: 0.1174\n",
      "Epoch 18/40\n",
      "Epoch 00017: val_loss did not improve\n",
      "170s - loss: 3.3960 - acc: 0.1982 - val_loss: 4.0241 - val_acc: 0.1413\n",
      "Epoch 19/40\n",
      "Epoch 00018: val_loss did not improve\n",
      "170s - loss: 3.3658 - acc: 0.1978 - val_loss: 4.1556 - val_acc: 0.1090\n",
      "Epoch 20/40\n",
      "Epoch 00019: val_loss did not improve\n",
      "170s - loss: 3.3577 - acc: 0.2034 - val_loss: 4.0607 - val_acc: 0.1257\n",
      "Epoch 21/40\n",
      "Epoch 00020: val_loss did not improve\n",
      "169s - loss: 3.3285 - acc: 0.2046 - val_loss: 3.9959 - val_acc: 0.1114\n",
      "Epoch 22/40\n",
      "Epoch 00021: val_loss did not improve\n",
      "169s - loss: 3.2988 - acc: 0.2144 - val_loss: 4.0407 - val_acc: 0.1389\n",
      "Epoch 23/40\n",
      "Epoch 00022: val_loss did not improve\n",
      "169s - loss: 3.2793 - acc: 0.2130 - val_loss: 4.0786 - val_acc: 0.1305\n",
      "Epoch 24/40\n",
      "Epoch 00023: val_loss did not improve\n",
      "169s - loss: 3.2638 - acc: 0.2163 - val_loss: 4.0036 - val_acc: 0.1210\n",
      "Epoch 25/40\n",
      "Epoch 00024: val_loss improved from 3.93977 to 3.88791, saving model to saved_models/weights.best.MiniVGGModel.hdf5\n",
      "169s - loss: 3.2336 - acc: 0.2319 - val_loss: 3.8879 - val_acc: 0.1593\n",
      "Epoch 26/40\n",
      "Epoch 00025: val_loss did not improve\n",
      "169s - loss: 3.2289 - acc: 0.2304 - val_loss: 3.9873 - val_acc: 0.1509\n",
      "Epoch 27/40\n",
      "Epoch 00026: val_loss did not improve\n",
      "168s - loss: 3.2053 - acc: 0.2362 - val_loss: 4.0086 - val_acc: 0.1545\n",
      "Epoch 28/40\n",
      "Epoch 00027: val_loss improved from 3.88791 to 3.86425, saving model to saved_models/weights.best.MiniVGGModel.hdf5\n",
      "168s - loss: 3.1848 - acc: 0.2310 - val_loss: 3.8643 - val_acc: 0.1389\n",
      "Epoch 29/40\n",
      "Epoch 00028: val_loss did not improve\n",
      "168s - loss: 3.1720 - acc: 0.2430 - val_loss: 4.0410 - val_acc: 0.1198\n",
      "Epoch 30/40\n",
      "Epoch 00029: val_loss did not improve\n",
      "168s - loss: 3.1431 - acc: 0.2385 - val_loss: 4.1206 - val_acc: 0.1425\n",
      "Epoch 31/40\n",
      "Epoch 00030: val_loss did not improve\n",
      "168s - loss: 3.1384 - acc: 0.2461 - val_loss: 3.9476 - val_acc: 0.1449\n",
      "Epoch 32/40\n",
      "Epoch 00031: val_loss did not improve\n",
      "168s - loss: 3.1107 - acc: 0.2494 - val_loss: 4.0193 - val_acc: 0.1425\n",
      "Epoch 33/40\n",
      "Epoch 00032: val_loss did not improve\n",
      "168s - loss: 3.1044 - acc: 0.2569 - val_loss: 4.2018 - val_acc: 0.1066\n",
      "Epoch 34/40\n",
      "Epoch 00033: val_loss did not improve\n",
      "168s - loss: 3.0877 - acc: 0.2590 - val_loss: 3.9038 - val_acc: 0.1485\n",
      "Epoch 35/40\n",
      "Epoch 00034: val_loss did not improve\n",
      "168s - loss: 3.0766 - acc: 0.2591 - val_loss: 4.0880 - val_acc: 0.1557\n",
      "Epoch 36/40\n",
      "Epoch 00035: val_loss did not improve\n",
      "168s - loss: 3.0529 - acc: 0.2627 - val_loss: 3.9322 - val_acc: 0.1389\n",
      "Epoch 37/40\n",
      "Epoch 00036: val_loss did not improve\n",
      "168s - loss: 3.0646 - acc: 0.2663 - val_loss: 4.0147 - val_acc: 0.1509\n",
      "Epoch 38/40\n",
      "Epoch 00037: val_loss did not improve\n",
      "168s - loss: 3.0555 - acc: 0.2708 - val_loss: 3.8785 - val_acc: 0.1413\n",
      "Epoch 39/40\n",
      "Epoch 00038: val_loss improved from 3.86425 to 3.83811, saving model to saved_models/weights.best.MiniVGGModel.hdf5\n",
      "168s - loss: 3.0408 - acc: 0.2707 - val_loss: 3.8381 - val_acc: 0.1437\n",
      "Epoch 40/40\n",
      "Epoch 00039: val_loss did not improve\n",
      "168s - loss: 3.0179 - acc: 0.2735 - val_loss: 4.1710 - val_acc: 0.1413\n"
     ]
    }
   ],
   "source": [
    "from keras.callbacks import ModelCheckpoint  \n",
    "\n",
    "### TODO: specify the number of epochs that you would like to use to train the model.\n",
    "\n",
    "epochs = 40\n",
    "\n",
    "### Do NOT modify the code below this line.a\n",
    "\n",
    "checkpointer = ModelCheckpoint(filepath='saved_models/weights.best.MiniVGGModel.hdf5', \n",
    "                               verbose=1, save_best_only=True)\n",
    "\n",
    "MiniVGGHistory40 = MiniVGGModel.fit(train_tensors, train_targets, \n",
    "          validation_data=(valid_tensors, valid_targets),\n",
    "          epochs=epochs, batch_size=20, callbacks=[checkpointer], verbose=2)"
   ]
  },
  {
   "cell_type": "code",
   "execution_count": 70,
   "metadata": {
    "collapsed": false,
    "deletable": true,
    "editable": true
   },
   "outputs": [
    {
     "name": "stdout",
     "output_type": "stream",
     "text": [
      "Train on 6680 samples, validate on 835 samples\n",
      "Epoch 1/40\n",
      "Epoch 00000: val_loss improved from inf to 4.04865, saving model to saved_models/weights.best.MiniInceptionModel.hdf5\n",
      "735s - loss: 3.7152 - acc: 0.1463 - val_loss: 4.0487 - val_acc: 0.1126\n",
      "Epoch 2/40\n",
      "Epoch 00001: val_loss improved from 4.04865 to 3.93273, saving model to saved_models/weights.best.MiniInceptionModel.hdf5\n",
      "735s - loss: 3.6981 - acc: 0.1534 - val_loss: 3.9327 - val_acc: 0.0982\n",
      "Epoch 3/40\n",
      "Epoch 00002: val_loss did not improve\n",
      "735s - loss: 3.6731 - acc: 0.1629 - val_loss: 4.1123 - val_acc: 0.0982\n",
      "Epoch 4/40\n",
      "Epoch 00003: val_loss did not improve\n",
      "735s - loss: 3.6348 - acc: 0.1632 - val_loss: 4.5439 - val_acc: 0.0862\n",
      "Epoch 5/40\n",
      "Epoch 00004: val_loss did not improve\n",
      "735s - loss: 3.6207 - acc: 0.1714 - val_loss: 4.0432 - val_acc: 0.1305\n",
      "Epoch 6/40\n",
      "Epoch 00005: val_loss improved from 3.93273 to 3.87624, saving model to saved_models/weights.best.MiniInceptionModel.hdf5\n",
      "735s - loss: 3.5803 - acc: 0.1723 - val_loss: 3.8762 - val_acc: 0.1317\n",
      "Epoch 7/40\n",
      "Epoch 00006: val_loss did not improve\n",
      "735s - loss: 3.5849 - acc: 0.1738 - val_loss: 3.9749 - val_acc: 0.1317\n",
      "Epoch 8/40\n",
      "Epoch 00007: val_loss did not improve\n",
      "735s - loss: 3.5644 - acc: 0.1822 - val_loss: 4.1893 - val_acc: 0.1293\n",
      "Epoch 9/40\n",
      "Epoch 00008: val_loss did not improve\n",
      "735s - loss: 3.5250 - acc: 0.1855 - val_loss: 4.7078 - val_acc: 0.1054\n",
      "Epoch 10/40\n",
      "Epoch 00009: val_loss did not improve\n",
      "735s - loss: 3.5249 - acc: 0.1918 - val_loss: 3.9120 - val_acc: 0.1497\n",
      "Epoch 11/40\n",
      "Epoch 00010: val_loss did not improve\n",
      "737s - loss: 3.5052 - acc: 0.1961 - val_loss: 4.0891 - val_acc: 0.0970\n",
      "Epoch 12/40\n",
      "Epoch 00011: val_loss did not improve\n",
      "735s - loss: 3.4884 - acc: 0.1990 - val_loss: 4.1180 - val_acc: 0.1150\n",
      "Epoch 13/40\n",
      "Epoch 00012: val_loss did not improve\n",
      "735s - loss: 3.4773 - acc: 0.1943 - val_loss: 3.9844 - val_acc: 0.1305\n",
      "Epoch 14/40\n",
      "Epoch 00013: val_loss did not improve\n",
      "735s - loss: 3.4668 - acc: 0.1921 - val_loss: 4.1033 - val_acc: 0.0982\n",
      "Epoch 15/40\n",
      "Epoch 00014: val_loss did not improve\n",
      "735s - loss: 3.4662 - acc: 0.1955 - val_loss: 4.0360 - val_acc: 0.1198\n",
      "Epoch 16/40\n",
      "Epoch 00015: val_loss did not improve\n",
      "736s - loss: 3.4563 - acc: 0.2033 - val_loss: 4.2281 - val_acc: 0.1234\n",
      "Epoch 17/40\n",
      "Epoch 00016: val_loss did not improve\n",
      "735s - loss: 3.4544 - acc: 0.2061 - val_loss: 3.9704 - val_acc: 0.1281\n",
      "Epoch 18/40\n",
      "Epoch 00017: val_loss did not improve\n",
      "736s - loss: 3.4757 - acc: 0.2018 - val_loss: 3.9737 - val_acc: 0.1341\n",
      "Epoch 19/40\n",
      "Epoch 00018: val_loss did not improve\n",
      "736s - loss: 3.4963 - acc: 0.2027 - val_loss: 4.0791 - val_acc: 0.1413\n",
      "Epoch 20/40\n",
      "Epoch 00019: val_loss did not improve\n",
      "736s - loss: 3.4832 - acc: 0.2010 - val_loss: 4.4683 - val_acc: 0.1281\n",
      "Epoch 21/40\n",
      "Epoch 00020: val_loss did not improve\n",
      "735s - loss: 3.4818 - acc: 0.2004 - val_loss: 4.1205 - val_acc: 0.1102\n",
      "Epoch 22/40\n",
      "Epoch 00021: val_loss did not improve\n",
      "736s - loss: 3.4841 - acc: 0.1955 - val_loss: 4.0296 - val_acc: 0.1497\n",
      "Epoch 23/40\n",
      "Epoch 00022: val_loss did not improve\n",
      "735s - loss: 3.4627 - acc: 0.2028 - val_loss: 4.2376 - val_acc: 0.1305\n",
      "Epoch 24/40\n",
      "Epoch 00023: val_loss did not improve\n",
      "735s - loss: 3.4658 - acc: 0.2012 - val_loss: 3.9186 - val_acc: 0.1222\n",
      "Epoch 25/40\n",
      "Epoch 00024: val_loss did not improve\n",
      "736s - loss: 3.4916 - acc: 0.1999 - val_loss: 4.0288 - val_acc: 0.1281\n",
      "Epoch 26/40\n",
      "Epoch 00025: val_loss did not improve\n",
      "735s - loss: 3.4651 - acc: 0.2013 - val_loss: 4.5856 - val_acc: 0.1066\n",
      "Epoch 27/40\n",
      "Epoch 00026: val_loss did not improve\n",
      "735s - loss: 3.5139 - acc: 0.2015 - val_loss: 3.9624 - val_acc: 0.1377\n",
      "Epoch 28/40\n",
      "Epoch 00027: val_loss did not improve\n",
      "735s - loss: 3.5016 - acc: 0.2019 - val_loss: 4.1305 - val_acc: 0.1545\n",
      "Epoch 29/40\n",
      "Epoch 00028: val_loss did not improve\n",
      "735s - loss: 3.5308 - acc: 0.1967 - val_loss: 4.0085 - val_acc: 0.1174\n",
      "Epoch 30/40\n",
      "Epoch 00029: val_loss did not improve\n",
      "735s - loss: 3.5236 - acc: 0.1996 - val_loss: 4.1120 - val_acc: 0.1054\n",
      "Epoch 31/40\n",
      "Epoch 00030: val_loss did not improve\n",
      "736s - loss: 3.4994 - acc: 0.1997 - val_loss: 3.9039 - val_acc: 0.1497\n",
      "Epoch 32/40\n",
      "Epoch 00031: val_loss did not improve\n",
      "735s - loss: 3.5550 - acc: 0.1981 - val_loss: 4.2722 - val_acc: 0.1521\n",
      "Epoch 33/40\n",
      "Epoch 00032: val_loss did not improve\n",
      "736s - loss: 3.5055 - acc: 0.2060 - val_loss: 3.9502 - val_acc: 0.1269\n",
      "Epoch 34/40\n",
      "Epoch 00033: val_loss improved from 3.87624 to 3.83387, saving model to saved_models/weights.best.MiniInceptionModel.hdf5\n",
      "735s - loss: 3.5055 - acc: 0.1987 - val_loss: 3.8339 - val_acc: 0.1437\n",
      "Epoch 35/40\n",
      "Epoch 00034: val_loss did not improve\n",
      "736s - loss: 3.4713 - acc: 0.2061 - val_loss: 3.9903 - val_acc: 0.1257\n",
      "Epoch 36/40\n",
      "Epoch 00035: val_loss did not improve\n",
      "736s - loss: 3.5343 - acc: 0.2004 - val_loss: 4.1545 - val_acc: 0.1437\n",
      "Epoch 37/40\n",
      "Epoch 00036: val_loss did not improve\n",
      "736s - loss: 3.4843 - acc: 0.2015 - val_loss: 4.0182 - val_acc: 0.1317\n",
      "Epoch 38/40\n",
      "Epoch 00037: val_loss did not improve\n",
      "735s - loss: 3.5127 - acc: 0.2105 - val_loss: 4.1556 - val_acc: 0.1545\n",
      "Epoch 39/40\n",
      "Epoch 00038: val_loss did not improve\n",
      "743s - loss: 3.4715 - acc: 0.2046 - val_loss: 4.0048 - val_acc: 0.1317\n",
      "Epoch 40/40\n",
      "Epoch 00039: val_loss did not improve\n",
      "741s - loss: 3.4447 - acc: 0.2093 - val_loss: 4.4840 - val_acc: 0.1437\n"
     ]
    }
   ],
   "source": [
    "from keras.callbacks import ModelCheckpoint  \n",
    "\n",
    "### TODO: specify the number of epochs that you would like to use to train the model.\n",
    "\n",
    "epochs = 40\n",
    "\n",
    "### Do NOT modify the code below this line.\n",
    "\n",
    "checkpointer = ModelCheckpoint(filepath='saved_models/weights.best.MiniInceptionModel.hdf5', \n",
    "                               verbose=1, save_best_only=True)\n",
    "\n",
    "MiniInceptionHistory40 = MiniInceptionModel.fit(train_tensors, train_targets, \n",
    "          validation_data=(valid_tensors, valid_targets),\n",
    "          epochs=epochs, batch_size=20, callbacks=[checkpointer], verbose=2)"
   ]
  },
  {
   "cell_type": "code",
   "execution_count": 71,
   "metadata": {
    "collapsed": false,
    "deletable": true,
    "editable": true
   },
   "outputs": [
    {
     "name": "stdout",
     "output_type": "stream",
     "text": [
      "Train on 6680 samples, validate on 835 samples\n",
      "Epoch 1/40\n",
      "Epoch 00000: val_loss improved from inf to 4.20164, saving model to saved_models/weights.best.MiniResNetModel.hdf5\n",
      "121s - loss: 4.0243 - acc: 0.0886 - val_loss: 4.2016 - val_acc: 0.0946\n",
      "Epoch 2/40\n",
      "Epoch 00001: val_loss improved from 4.20164 to 4.18824, saving model to saved_models/weights.best.MiniResNetModel.hdf5\n",
      "121s - loss: 4.0000 - acc: 0.1003 - val_loss: 4.1882 - val_acc: 0.0838\n",
      "Epoch 3/40\n",
      "Epoch 00002: val_loss improved from 4.18824 to 4.16716, saving model to saved_models/weights.best.MiniResNetModel.hdf5\n",
      "121s - loss: 3.9574 - acc: 0.1042 - val_loss: 4.1672 - val_acc: 0.0802\n",
      "Epoch 4/40\n",
      "Epoch 00003: val_loss did not improve\n",
      "121s - loss: 3.9277 - acc: 0.1057 - val_loss: 4.2934 - val_acc: 0.0671\n",
      "Epoch 5/40\n",
      "Epoch 00004: val_loss did not improve\n",
      "121s - loss: 3.9109 - acc: 0.1097 - val_loss: 4.1974 - val_acc: 0.0874\n",
      "Epoch 6/40\n",
      "Epoch 00005: val_loss did not improve\n",
      "121s - loss: 3.8847 - acc: 0.1130 - val_loss: 4.4885 - val_acc: 0.0826\n",
      "Epoch 7/40\n",
      "Epoch 00006: val_loss did not improve\n",
      "121s - loss: 3.8474 - acc: 0.1192 - val_loss: 4.1994 - val_acc: 0.0922\n",
      "Epoch 8/40\n",
      "Epoch 00007: val_loss improved from 4.16716 to 4.05429, saving model to saved_models/weights.best.MiniResNetModel.hdf5\n",
      "121s - loss: 3.8290 - acc: 0.1186 - val_loss: 4.0543 - val_acc: 0.1030\n",
      "Epoch 9/40\n",
      "Epoch 00008: val_loss did not improve\n",
      "121s - loss: 3.7854 - acc: 0.1277 - val_loss: 4.1612 - val_acc: 0.1054\n",
      "Epoch 10/40\n",
      "Epoch 00009: val_loss did not improve\n",
      "121s - loss: 3.7714 - acc: 0.1286 - val_loss: 4.1148 - val_acc: 0.1186\n",
      "Epoch 11/40\n",
      "Epoch 00010: val_loss did not improve\n",
      "121s - loss: 3.7447 - acc: 0.1385 - val_loss: 4.1852 - val_acc: 0.0910\n",
      "Epoch 12/40\n",
      "Epoch 00011: val_loss improved from 4.05429 to 3.96453, saving model to saved_models/weights.best.MiniResNetModel.hdf5\n",
      "124s - loss: 3.7189 - acc: 0.1358 - val_loss: 3.9645 - val_acc: 0.1246\n",
      "Epoch 13/40\n",
      "Epoch 00012: val_loss improved from 3.96453 to 3.95007, saving model to saved_models/weights.best.MiniResNetModel.hdf5\n",
      "124s - loss: 3.7093 - acc: 0.1386 - val_loss: 3.9501 - val_acc: 0.1150\n",
      "Epoch 14/40\n",
      "Epoch 00013: val_loss did not improve\n",
      "122s - loss: 3.6778 - acc: 0.1449 - val_loss: 4.0423 - val_acc: 0.1102\n",
      "Epoch 15/40\n",
      "Epoch 00014: val_loss did not improve\n",
      "124s - loss: 3.6525 - acc: 0.1485 - val_loss: 4.1873 - val_acc: 0.1126\n",
      "Epoch 16/40\n",
      "Epoch 00015: val_loss improved from 3.95007 to 3.94155, saving model to saved_models/weights.best.MiniResNetModel.hdf5\n",
      "121s - loss: 3.6149 - acc: 0.1516 - val_loss: 3.9416 - val_acc: 0.1174\n",
      "Epoch 17/40\n",
      "Epoch 00016: val_loss did not improve\n",
      "122s - loss: 3.5936 - acc: 0.1545 - val_loss: 3.9521 - val_acc: 0.1150\n",
      "Epoch 18/40\n",
      "Epoch 00017: val_loss improved from 3.94155 to 3.88027, saving model to saved_models/weights.best.MiniResNetModel.hdf5\n",
      "124s - loss: 3.5857 - acc: 0.1573 - val_loss: 3.8803 - val_acc: 0.1234\n",
      "Epoch 19/40\n",
      "Epoch 00018: val_loss did not improve\n",
      "125s - loss: 3.5472 - acc: 0.1666 - val_loss: 3.9988 - val_acc: 0.1114\n",
      "Epoch 20/40\n",
      "Epoch 00019: val_loss did not improve\n",
      "125s - loss: 3.5438 - acc: 0.1713 - val_loss: 4.1062 - val_acc: 0.1162\n",
      "Epoch 21/40\n",
      "Epoch 00020: val_loss improved from 3.88027 to 3.87057, saving model to saved_models/weights.best.MiniResNetModel.hdf5\n",
      "124s - loss: 3.5119 - acc: 0.1719 - val_loss: 3.8706 - val_acc: 0.1317\n",
      "Epoch 22/40\n",
      "Epoch 00021: val_loss did not improve\n",
      "123s - loss: 3.4916 - acc: 0.1677 - val_loss: 3.9578 - val_acc: 0.1054\n",
      "Epoch 23/40\n",
      "Epoch 00022: val_loss did not improve\n",
      "122s - loss: 3.4746 - acc: 0.1769 - val_loss: 3.9026 - val_acc: 0.1317\n",
      "Epoch 24/40\n",
      "Epoch 00023: val_loss improved from 3.87057 to 3.82549, saving model to saved_models/weights.best.MiniResNetModel.hdf5\n",
      "122s - loss: 3.4556 - acc: 0.1814 - val_loss: 3.8255 - val_acc: 0.1425\n",
      "Epoch 25/40\n",
      "Epoch 00024: val_loss improved from 3.82549 to 3.80571, saving model to saved_models/weights.best.MiniResNetModel.hdf5\n",
      "122s - loss: 3.4458 - acc: 0.1912 - val_loss: 3.8057 - val_acc: 0.1293\n",
      "Epoch 26/40\n",
      "Epoch 00025: val_loss did not improve\n",
      "121s - loss: 3.4180 - acc: 0.1912 - val_loss: 3.9325 - val_acc: 0.1269\n",
      "Epoch 27/40\n",
      "Epoch 00026: val_loss did not improve\n",
      "121s - loss: 3.3908 - acc: 0.1975 - val_loss: 4.2019 - val_acc: 0.1198\n",
      "Epoch 28/40\n",
      "Epoch 00027: val_loss did not improve\n",
      "124s - loss: 3.3671 - acc: 0.1976 - val_loss: 3.9022 - val_acc: 0.1257\n",
      "Epoch 29/40\n",
      "Epoch 00028: val_loss improved from 3.80571 to 3.75271, saving model to saved_models/weights.best.MiniResNetModel.hdf5\n",
      "125s - loss: 3.3607 - acc: 0.1997 - val_loss: 3.7527 - val_acc: 0.1533\n",
      "Epoch 30/40\n",
      "Epoch 00029: val_loss improved from 3.75271 to 3.73447, saving model to saved_models/weights.best.MiniResNetModel.hdf5\n",
      "125s - loss: 3.3458 - acc: 0.1967 - val_loss: 3.7345 - val_acc: 0.1461\n",
      "Epoch 31/40\n",
      "Epoch 00030: val_loss did not improve\n",
      "126s - loss: 3.3201 - acc: 0.2091 - val_loss: 3.7549 - val_acc: 0.1545\n",
      "Epoch 32/40\n",
      "Epoch 00031: val_loss did not improve\n",
      "126s - loss: 3.3093 - acc: 0.2085 - val_loss: 3.8308 - val_acc: 0.1257\n",
      "Epoch 33/40\n",
      "Epoch 00032: val_loss did not improve\n",
      "121s - loss: 3.3027 - acc: 0.2099 - val_loss: 3.8018 - val_acc: 0.1533\n",
      "Epoch 34/40\n",
      "Epoch 00033: val_loss did not improve\n",
      "124s - loss: 3.2668 - acc: 0.2127 - val_loss: 3.7413 - val_acc: 0.1629\n",
      "Epoch 35/40\n",
      "Epoch 00034: val_loss did not improve\n",
      "121s - loss: 3.2560 - acc: 0.2136 - val_loss: 3.8295 - val_acc: 0.1365\n",
      "Epoch 36/40\n",
      "Epoch 00035: val_loss did not improve\n",
      "122s - loss: 3.2457 - acc: 0.2186 - val_loss: 3.9931 - val_acc: 0.1377\n",
      "Epoch 37/40\n",
      "Epoch 00036: val_loss did not improve\n",
      "125s - loss: 3.2350 - acc: 0.2178 - val_loss: 3.8424 - val_acc: 0.1341\n",
      "Epoch 38/40\n",
      "Epoch 00037: val_loss did not improve\n",
      "124s - loss: 3.2145 - acc: 0.2260 - val_loss: 3.9923 - val_acc: 0.1317\n",
      "Epoch 39/40\n",
      "Epoch 00038: val_loss did not improve\n",
      "123s - loss: 3.1994 - acc: 0.2278 - val_loss: 4.2638 - val_acc: 0.1425\n",
      "Epoch 40/40\n",
      "Epoch 00039: val_loss improved from 3.73447 to 3.70855, saving model to saved_models/weights.best.MiniResNetModel.hdf5\n",
      "126s - loss: 3.1945 - acc: 0.2281 - val_loss: 3.7085 - val_acc: 0.1497\n"
     ]
    }
   ],
   "source": [
    "from keras.callbacks import ModelCheckpoint  \n",
    "\n",
    "### TODO: specify the number of epochs that you would like to use to train the model.\n",
    "\n",
    "epochs = 40\n",
    "\n",
    "### Do NOT modify the code below this line.a\n",
    "\n",
    "checkpointer = ModelCheckpoint(filepath='saved_models/weights.best.MiniResNetModel.hdf5', \n",
    "                               verbose=1, save_best_only=True)\n",
    "\n",
    "MiniResNetHitory40 = MiniResNetModel.fit(train_tensors, train_targets, \n",
    "          validation_data=(valid_tensors, valid_targets),\n",
    "          epochs=epochs, batch_size=20, callbacks=[checkpointer], verbose=2)"
   ]
  },
  {
   "cell_type": "markdown",
   "metadata": {
    "deletable": true,
    "editable": true
   },
   "source": [
    "### Load the Model with the Best Validation Loss"
   ]
  },
  {
   "cell_type": "code",
   "execution_count": 24,
   "metadata": {
    "collapsed": true,
    "deletable": true,
    "editable": true
   },
   "outputs": [],
   "source": [
    "BenchmarkModel.load_weights('saved_models/weights.best.BenchmarkModel.hdf5')"
   ]
  },
  {
   "cell_type": "code",
   "execution_count": 75,
   "metadata": {
    "collapsed": true,
    "deletable": true,
    "editable": true
   },
   "outputs": [],
   "source": [
    "MiniVGGModel.load_weights('saved_models/weights.best.MiniVGGModel.hdf5')"
   ]
  },
  {
   "cell_type": "code",
   "execution_count": 76,
   "metadata": {
    "collapsed": true,
    "deletable": true,
    "editable": true
   },
   "outputs": [],
   "source": [
    "MiniInceptionModel.load_weights('saved_models/weights.best.MiniInceptionModel.hdf5')"
   ]
  },
  {
   "cell_type": "code",
   "execution_count": 77,
   "metadata": {
    "collapsed": true,
    "deletable": true,
    "editable": true
   },
   "outputs": [],
   "source": [
    "MiniResNetModel.load_weights('saved_models/weights.best.MiniResNetModel.hdf5')"
   ]
  },
  {
   "cell_type": "code",
   "execution_count": 74,
   "metadata": {
    "collapsed": false,
    "deletable": true,
    "editable": true
   },
   "outputs": [
    {
     "data": {
      "image/png": "[encoded data removed]",
      "text/plain": [
       "<matplotlib.figure.Figure at 0x47299e10>"
      ]
     },
     "metadata": {},
     "output_type": "display_data"
    },
    {
     "data": {
      "image/png": "[encoded data removed]",
      "text/plain": [
       "<matplotlib.figure.Figure at 0x47288c18>"
      ]
     },
     "metadata": {},
     "output_type": "display_data"
    }
   ],
   "source": [
    "# summarize history for accuracy\n",
    "plt.plot(MiniVGGHistory40.history['acc'], linestyle='-', color='black')\n",
    "plt.plot(MiniVGGHistory40.history['val_acc'], linestyle=':', color='black')\n",
    "plt.plot(MiniInceptionHistory40.history['acc'], linestyle='-', color='blue')\n",
    "plt.plot(MiniInceptionHistory40.history['val_acc'], linestyle=':', color='blue')\n",
    "plt.plot(MiniResNetHitory40.history['acc'], linestyle='-', color='yellow')\n",
    "plt.plot(MiniResNetHitory40.history['val_acc'], linestyle=':', color='yellow')\n",
    "plt.title('model accuracy')\n",
    "plt.ylabel('accuracy')\n",
    "plt.xlabel('epoch')\n",
    "plt.legend(['VGG_trn', 'VGG_tst', 'Incept_trn', 'Incept_tst', 'Res_trn', \n",
    "           'Res_tst'], loc='upper left')\n",
    "plt.show()\n",
    "# summarize history for loss\n",
    "plt.plot(MiniVGGHistory40.history['loss'], linestyle='-', color='black')\n",
    "plt.plot(MiniVGGHistory40.history['val_loss'], linestyle=':', color='black')\n",
    "plt.plot(MiniInceptionHistory40.history['loss'], linestyle='-', color='blue')\n",
    "plt.plot(MiniInceptionHistory40.history['val_loss'], linestyle=':', color='blue')\n",
    "plt.plot(MiniResNetHitory40.history['loss'], linestyle='-', color='yellow')\n",
    "plt.plot(MiniResNetHitory40.history['val_loss'], linestyle=':', color='yellow')\n",
    "plt.title('model loss')\n",
    "plt.ylabel('loss')\n",
    "plt.xlabel('epoch')\n",
    "plt.legend(['VGG_trn', 'VGG_tst', 'Incept_trn', 'Incept_tst', 'Res_trn', \n",
    "           'Res_tst'], loc='upper left')\n",
    "plt.show()"
   ]
  },
  {
   "cell_type": "markdown",
   "metadata": {
    "deletable": true,
    "editable": true
   },
   "source": [
    "### Test the Model\n",
    "\n",
    "Try out your model on the test dataset of dog images.  Ensure that your test accuracy is greater than 1%."
   ]
  },
  {
   "cell_type": "code",
   "execution_count": 25,
   "metadata": {
    "collapsed": false,
    "deletable": true,
    "editable": true
   },
   "outputs": [
    {
     "name": "stdout",
     "output_type": "stream",
     "text": [
      "Test accuracy: 7.4163%\n"
     ]
    }
   ],
   "source": [
    "# get index of predicted dog breed for each image in test set\n",
    "pred_BenchmarkModel = [np.argmax(BenchmarkModel.predict(np.expand_dims(tensor, axis=0))) for tensor in test_tensors]\n",
    "\n",
    "# report test accuracy\n",
    "test_accuracy = 100*np.sum(np.array(pred_BenchmarkModel)==np.argmax(test_targets, axis=1))/len(pred_BenchmarkModel)\n",
    "print('Test accuracy: %.4f%%' % test_accuracy)"
   ]
  },
  {
   "cell_type": "code",
   "execution_count": 78,
   "metadata": {
    "collapsed": false,
    "deletable": true,
    "editable": true
   },
   "outputs": [
    {
     "name": "stdout",
     "output_type": "stream",
     "text": [
      "Test accuracy: 13.0383%\n"
     ]
    }
   ],
   "source": [
    "# get index of predicted dog breed for each image in test set\n",
    "pred_MiniVGGModel = [np.argmax(MiniVGGModel.predict(np.expand_dims(tensor, axis=0))) for tensor in test_tensors]\n",
    "\n",
    "# report test accuracy\n",
    "test_accuracy = 100*np.sum(np.array(pred_MiniVGGModel)==np.argmax(test_targets, axis=1))/len(pred_MiniVGGModel)\n",
    "print('Test accuracy: %.4f%%' % test_accuracy)"
   ]
  },
  {
   "cell_type": "code",
   "execution_count": 79,
   "metadata": {
    "collapsed": false,
    "deletable": true,
    "editable": true
   },
   "outputs": [
    {
     "name": "stdout",
     "output_type": "stream",
     "text": [
      "Test accuracy: 15.0718%\n"
     ]
    }
   ],
   "source": [
    "# get index of predicted dog breed for each image in test set\n",
    "pred_MiniInceptionModel = [np.argmax(MiniInceptionModel.predict(np.expand_dims(tensor, axis=0))) for tensor in test_tensors]\n",
    "\n",
    "# report test accuracy\n",
    "test_accuracy = 100*np.sum(np.array(pred_MiniInceptionModel)==np.argmax(test_targets, axis=1))/len(pred_MiniInceptionModel)\n",
    "print('Test accuracy: %.4f%%' % test_accuracy)"
   ]
  },
  {
   "cell_type": "code",
   "execution_count": 80,
   "metadata": {
    "collapsed": false,
    "deletable": true,
    "editable": true
   },
   "outputs": [
    {
     "name": "stdout",
     "output_type": "stream",
     "text": [
      "Test accuracy: 14.4737%\n"
     ]
    }
   ],
   "source": [
    "# get index of predicted dog breed for each image in test set\n",
    "pred_MiniResNetModel = [np.argmax(MiniResNetModel.predict(np.expand_dims(tensor, axis=0))) for tensor in test_tensors]\n",
    "\n",
    "# report test accuracy\n",
    "test_accuracy = 100*np.sum(np.array(pred_MiniResNetModel)==np.argmax(test_targets, axis=1))/len(pred_MiniResNetModel)\n",
    "print('Test accuracy: %.4f%%' % test_accuracy)"
   ]
  },
  {
   "cell_type": "markdown",
   "metadata": {
    "deletable": true,
    "editable": true
   },
   "source": [
    "---\n",
    "<a id='step4'></a>\n",
    "## Step 4: Use a CNN to Classify Dog Breeds\n",
    "\n",
    "To reduce training time without sacrificing accuracy, we show you how to train a CNN using transfer learning.  In the following step, you will get a chance to use transfer learning to train your own CNN.\n",
    "\n",
    "### Obtain Bottleneck Features"
   ]
  },
  {
   "cell_type": "code",
   "execution_count": 12,
   "metadata": {
    "collapsed": false,
    "deletable": true,
    "editable": true
   },
   "outputs": [],
   "source": [
    "# bottleneck_features = np.load('bottleneck_features/DogVGG16Data.npz')\n",
    "# 3train_VGG16 = bottleneck_features['train']\n",
    "# valid_VGG16 = bottleneck_features['valid']\n",
    "# test_VGG16 = bottleneck_features['test']"
   ]
  },
  {
   "cell_type": "markdown",
   "metadata": {
    "deletable": true,
    "editable": true
   },
   "source": [
    "### Model Architecture\n",
    "\n",
    "The model uses the the pre-trained VGG-16 model as a fixed feature extractor, where the last convolutional output of VGG-16 is fed as input to our model.  We only add a global average pooling layer and a fully connected layer, where the latter contains one node for each dog category and is equipped with a softmax."
   ]
  },
  {
   "cell_type": "code",
   "execution_count": 23,
   "metadata": {
    "collapsed": false,
    "deletable": true,
    "editable": true
   },
   "outputs": [
    {
     "name": "stdout",
     "output_type": "stream",
     "text": [
      "_________________________________________________________________\n",
      "Layer (type)                 Output Shape              Param #   \n",
      "=================================================================\n",
      "global_average_pooling2d_2 ( (None, 512)               0         \n",
      "_________________________________________________________________\n",
      "dense_2 (Dense)              (None, 133)               68229     \n",
      "=================================================================\n",
      "Total params: 68,229.0\n",
      "Trainable params: 68,229.0\n",
      "Non-trainable params: 0.0\n",
      "_________________________________________________________________\n"
     ]
    }
   ],
   "source": [
    "VGG16_model = Sequential()\n",
    "VGG16_model.add(GlobalAveragePooling2D(input_shape=train_VGG16.shape[1:]))\n",
    "VGG16_model.add(Dense(133, activation='softmax'))\n",
    "\n",
    "VGG16_model.summary()"
   ]
  },
  {
   "cell_type": "markdown",
   "metadata": {
    "deletable": true,
    "editable": true
   },
   "source": [
    "### Compile the Model"
   ]
  },
  {
   "cell_type": "code",
   "execution_count": 24,
   "metadata": {
    "collapsed": true,
    "deletable": true,
    "editable": true
   },
   "outputs": [],
   "source": [
    "VGG16_model.compile(loss='categorical_crossentropy', optimizer='rmsprop', metrics=['accuracy'])"
   ]
  },
  {
   "cell_type": "markdown",
   "metadata": {
    "deletable": true,
    "editable": true
   },
   "source": [
    "### Train the Model"
   ]
  },
  {
   "cell_type": "code",
   "execution_count": 13,
   "metadata": {
    "collapsed": false,
    "deletable": true,
    "editable": true
   },
   "outputs": [],
   "source": [
    "# checkpointer = ModelCheckpoint(filepath='saved_models/weights.best.VGG16.hdf5', \n",
    "#                                verbose=1, save_best_only=True)\n",
    "\n",
    "# VGG16_model.fit(train_VGG16, train_targets, \n",
    "#           validation_data=(valid_VGG16, valid_targets),\n",
    "#           epochs=20, batch_size=20, callbacks=[checkpointer], verbose=2)"
   ]
  },
  {
   "cell_type": "markdown",
   "metadata": {
    "deletable": true,
    "editable": true
   },
   "source": [
    "### Load the Model with the Best Validation Loss"
   ]
  },
  {
   "cell_type": "code",
   "execution_count": 26,
   "metadata": {
    "collapsed": true,
    "deletable": true,
    "editable": true
   },
   "outputs": [],
   "source": [
    "VGG16_model.load_weights('saved_models/weights.best.VGG16.hdf5')"
   ]
  },
  {
   "cell_type": "markdown",
   "metadata": {
    "deletable": true,
    "editable": true
   },
   "source": [
    "### Test the Model\n",
    "\n",
    "Now, we can use the CNN to test how well it identifies breed within our test dataset of dog images.  We print the test accuracy below."
   ]
  },
  {
   "cell_type": "code",
   "execution_count": 27,
   "metadata": {
    "collapsed": false,
    "deletable": true,
    "editable": true
   },
   "outputs": [
    {
     "name": "stdout",
     "output_type": "stream",
     "text": [
      "Test accuracy: 42.1053%\n"
     ]
    }
   ],
   "source": [
    "# get index of predicted dog breed for each image in test set\n",
    "VGG16_predictions = [np.argmax(VGG16_model.predict(np.expand_dims(feature, axis=0))) for feature in test_VGG16]\n",
    "\n",
    "# report test accuracy\n",
    "test_accuracy = 100*np.sum(np.array(VGG16_predictions)==np.argmax(test_targets, axis=1))/len(VGG16_predictions)\n",
    "print('Test accuracy: %.4f%%' % test_accuracy)"
   ]
  },
  {
   "cell_type": "markdown",
   "metadata": {
    "deletable": true,
    "editable": true
   },
   "source": [
    "### Predict Dog Breed with the Model"
   ]
  },
  {
   "cell_type": "code",
   "execution_count": null,
   "metadata": {
    "collapsed": true,
    "deletable": true,
    "editable": true
   },
   "outputs": [],
   "source": [
    "from extract_bottleneck_features import *\n",
    "\n",
    "def VGG16_predict_breed(img_path):\n",
    "    # extract bottleneck features\n",
    "    bottleneck_feature = extract_VGG16(path_to_tensor(img_path))\n",
    "    # obtain predicted vector\n",
    "    predicted_vector = VGG16_model.predict(bottleneck_feature)\n",
    "    # return dog breed that is predicted by the model\n",
    "    return dog_names[np.argmax(predicted_vector)]"
   ]
  },
  {
   "cell_type": "markdown",
   "metadata": {
    "deletable": true,
    "editable": true
   },
   "source": [
    "---\n",
    "<a id='step5'></a>\n",
    "## Step 5: Create a CNN to Classify Dog Breeds (using Transfer Learning)\n",
    "\n",
    "You will now use transfer learning to create a CNN that can identify dog breed from images.  Your CNN must attain at least 60% accuracy on the test set.\n",
    "\n",
    "In Step 4, we used transfer learning to create a CNN using VGG-16 bottleneck features.  In this section, you must use the bottleneck features from a different pre-trained model.  To make things easier for you, we have pre-computed the features for all of the networks that are currently available in Keras:\n",
    "- [VGG-19](https://s3-us-west-1.amazonaws.com/udacity-aind/dog-project/DogVGG19Data.npz) bottleneck features\n",
    "- [ResNet-50](https://s3-us-west-1.amazonaws.com/udacity-aind/dog-project/DogResnet50Data.npz) bottleneck features\n",
    "- [Inception](https://s3-us-west-1.amazonaws.com/udacity-aind/dog-project/DogInceptionV3Data.npz) bottleneck features\n",
    "- [Xception](https://s3-us-west-1.amazonaws.com/udacity-aind/dog-project/DogXceptionData.npz) bottleneck features\n",
    "\n",
    "The files are encoded as such:\n",
    "\n",
    "    Dog{network}Data.npz\n",
    "    \n",
    "where `{network}`, in the above filename, can be one of `VGG19`, `Resnet50`, `InceptionV3`, or `Xception`.  Pick one of the above architectures, download the corresponding bottleneck features, and store the downloaded file in the `bottleneck_features/` folder in the repository.\n",
    "\n",
    "### (IMPLEMENTATION) Obtain Bottleneck Features\n",
    "\n",
    "In the code block below, extract the bottleneck features corresponding to the train, test, and validation sets by running the following:\n",
    "\n",
    "    bottleneck_features = np.load('bottleneck_features/Dog{network}Data.npz')\n",
    "    train_{network} = bottleneck_features['train']\n",
    "    valid_{network} = bottleneck_features['valid']\n",
    "    test_{network} = bottleneck_features['test']"
   ]
  },
  {
   "cell_type": "markdown",
   "metadata": {
    "deletable": true,
    "editable": true
   },
   "source": [
    "### (IMPLEMENTATION) Model Architecture\n",
    "\n",
    "Create a CNN to classify dog breed.  At the end of your code cell block, summarize the layers of your model by executing the line:\n",
    "    \n",
    "        <your model's name>.summary()\n",
    "   \n",
    "__Question 5:__ Outline the steps you took to get to your final CNN architecture and your reasoning at each step.  Describe why you think the architecture is suitable for the current problem.\n",
    "\n",
    "__Answer:__ I tried two bottleneck features here, one is the ResNet50, the other is the Xception network. On top of the bottleneck features, I add a GlobalAveragePooling layer and a fully conneted layer before finally reach the softmax output layer. Because this structure is adopted by both ResNet and Xeption network. Although in Xception network the final fully connected layer is optional, there results show that this layer do increase the accuracy, so I keep it here. "
   ]
  },
  {
   "cell_type": "code",
   "execution_count": 83,
   "metadata": {
    "collapsed": false,
    "deletable": true,
    "editable": true
   },
   "outputs": [
    {
     "name": "stdout",
     "output_type": "stream",
     "text": [
      "_________________________________________________________________\n",
      "Layer (type)                 Output Shape              Param #   \n",
      "=================================================================\n",
      "global_average_pooling2d_9 ( (None, 2048)              0         \n",
      "_________________________________________________________________\n",
      "dense_9 (Dense)              (None, 133)               272517    \n",
      "=================================================================\n",
      "Total params: 272,517.0\n",
      "Trainable params: 272,517.0\n",
      "Non-trainable params: 0.0\n",
      "_________________________________________________________________\n",
      "Train on 6680 samples, validate on 835 samples\n",
      "Epoch 1/40\n",
      "Epoch 00000: val_loss improved from inf to 0.80884, saving model to saved_models/weights.best.Resnet50.hdf5\n",
      "2s - loss: 1.6503 - acc: 0.5934 - val_loss: 0.8088 - val_acc: 0.7509\n",
      "Epoch 2/40\n",
      "Epoch 00001: val_loss improved from 0.80884 to 0.67219, saving model to saved_models/weights.best.Resnet50.hdf5\n",
      "1s - loss: 0.4366 - acc: 0.8618 - val_loss: 0.6722 - val_acc: 0.7952\n",
      "Epoch 3/40\n",
      "Epoch 00002: val_loss improved from 0.67219 to 0.67185, saving model to saved_models/weights.best.Resnet50.hdf5\n",
      "1s - loss: 0.2637 - acc: 0.9127 - val_loss: 0.6719 - val_acc: 0.7928\n",
      "Epoch 4/40\n",
      "Epoch 00003: val_loss did not improve\n",
      "1s - loss: 0.1716 - acc: 0.9467 - val_loss: 0.7491 - val_acc: 0.7892\n",
      "Epoch 5/40\n",
      "Epoch 00004: val_loss did not improve\n",
      "1s - loss: 0.1220 - acc: 0.9638 - val_loss: 0.6927 - val_acc: 0.8263\n",
      "Epoch 6/40\n",
      "Epoch 00005: val_loss improved from 0.67185 to 0.66394, saving model to saved_models/weights.best.Resnet50.hdf5\n",
      "2s - loss: 0.0880 - acc: 0.9725 - val_loss: 0.6639 - val_acc: 0.8180\n",
      "Epoch 7/40\n",
      "Epoch 00006: val_loss did not improve\n",
      "1s - loss: 0.0643 - acc: 0.9814 - val_loss: 0.6734 - val_acc: 0.8144\n",
      "Epoch 8/40\n",
      "Epoch 00007: val_loss did not improve\n",
      "1s - loss: 0.0471 - acc: 0.9855 - val_loss: 0.7440 - val_acc: 0.8263\n",
      "Epoch 9/40\n",
      "Epoch 00008: val_loss did not improve\n",
      "1s - loss: 0.0373 - acc: 0.9895 - val_loss: 0.7686 - val_acc: 0.8120\n",
      "Epoch 10/40\n",
      "Epoch 00009: val_loss did not improve\n",
      "1s - loss: 0.0287 - acc: 0.9916 - val_loss: 0.7822 - val_acc: 0.8156\n",
      "Epoch 11/40\n",
      "Epoch 00010: val_loss did not improve\n",
      "1s - loss: 0.0217 - acc: 0.9937 - val_loss: 0.7665 - val_acc: 0.8347\n",
      "Epoch 12/40\n",
      "Epoch 00011: val_loss did not improve\n",
      "1s - loss: 0.0195 - acc: 0.9955 - val_loss: 0.7627 - val_acc: 0.8204\n",
      "Epoch 13/40\n",
      "Epoch 00012: val_loss did not improve\n",
      "1s - loss: 0.0136 - acc: 0.9970 - val_loss: 0.7619 - val_acc: 0.8180\n",
      "Epoch 14/40\n",
      "Epoch 00013: val_loss did not improve\n",
      "1s - loss: 0.0115 - acc: 0.9973 - val_loss: 0.8519 - val_acc: 0.8240\n",
      "Epoch 15/40\n",
      "Epoch 00014: val_loss did not improve\n",
      "1s - loss: 0.0095 - acc: 0.9979 - val_loss: 0.8525 - val_acc: 0.8204\n",
      "Epoch 16/40\n",
      "Epoch 00015: val_loss did not improve\n",
      "1s - loss: 0.0095 - acc: 0.9978 - val_loss: 0.8110 - val_acc: 0.8419\n",
      "Epoch 17/40\n",
      "Epoch 00016: val_loss did not improve\n",
      "1s - loss: 0.0077 - acc: 0.9975 - val_loss: 0.8296 - val_acc: 0.8359\n",
      "Epoch 18/40\n",
      "Epoch 00017: val_loss did not improve\n",
      "1s - loss: 0.0080 - acc: 0.9985 - val_loss: 0.9055 - val_acc: 0.8251\n",
      "Epoch 19/40\n",
      "Epoch 00018: val_loss did not improve\n",
      "1s - loss: 0.0078 - acc: 0.9984 - val_loss: 0.9224 - val_acc: 0.8299\n",
      "Epoch 20/40\n",
      "Epoch 00019: val_loss did not improve\n",
      "1s - loss: 0.0077 - acc: 0.9982 - val_loss: 0.8745 - val_acc: 0.8359\n",
      "Epoch 21/40\n",
      "Epoch 00020: val_loss did not improve\n",
      "1s - loss: 0.0042 - acc: 0.9991 - val_loss: 1.0039 - val_acc: 0.8228\n",
      "Epoch 22/40\n",
      "Epoch 00021: val_loss did not improve\n",
      "1s - loss: 0.0047 - acc: 0.9985 - val_loss: 0.9554 - val_acc: 0.8263\n",
      "Epoch 23/40\n",
      "Epoch 00022: val_loss did not improve\n",
      "1s - loss: 0.0050 - acc: 0.9987 - val_loss: 0.9892 - val_acc: 0.8275\n",
      "Epoch 24/40\n",
      "Epoch 00023: val_loss did not improve\n",
      "1s - loss: 0.0054 - acc: 0.9988 - val_loss: 0.9787 - val_acc: 0.8251\n",
      "Epoch 25/40\n",
      "Epoch 00024: val_loss did not improve\n",
      "1s - loss: 0.0048 - acc: 0.9991 - val_loss: 1.0403 - val_acc: 0.8299\n",
      "Epoch 26/40\n",
      "Epoch 00025: val_loss did not improve\n",
      "1s - loss: 0.0048 - acc: 0.9988 - val_loss: 1.0079 - val_acc: 0.8359\n",
      "Epoch 27/40\n",
      "Epoch 00026: val_loss did not improve\n",
      "1s - loss: 0.0044 - acc: 0.9988 - val_loss: 1.0244 - val_acc: 0.8299\n",
      "Epoch 28/40\n",
      "Epoch 00027: val_loss did not improve\n",
      "1s - loss: 0.0054 - acc: 0.9990 - val_loss: 1.0961 - val_acc: 0.8275\n",
      "Epoch 29/40\n",
      "Epoch 00028: val_loss did not improve\n",
      "1s - loss: 0.0056 - acc: 0.9985 - val_loss: 1.0958 - val_acc: 0.8204\n",
      "Epoch 30/40\n",
      "Epoch 00029: val_loss did not improve\n",
      "1s - loss: 0.0046 - acc: 0.9988 - val_loss: 1.0909 - val_acc: 0.8275\n",
      "Epoch 31/40\n",
      "Epoch 00030: val_loss did not improve\n",
      "1s - loss: 0.0042 - acc: 0.9990 - val_loss: 1.0854 - val_acc: 0.8275\n",
      "Epoch 32/40\n",
      "Epoch 00031: val_loss did not improve\n",
      "1s - loss: 0.0058 - acc: 0.9985 - val_loss: 1.0641 - val_acc: 0.8287\n",
      "Epoch 33/40\n",
      "Epoch 00032: val_loss did not improve\n",
      "1s - loss: 0.0055 - acc: 0.9988 - val_loss: 1.1146 - val_acc: 0.8323\n",
      "Epoch 34/40\n",
      "Epoch 00033: val_loss did not improve\n",
      "1s - loss: 0.0043 - acc: 0.9987 - val_loss: 1.1262 - val_acc: 0.8263\n",
      "Epoch 35/40\n",
      "Epoch 00034: val_loss did not improve\n",
      "1s - loss: 0.0044 - acc: 0.9988 - val_loss: 1.1396 - val_acc: 0.8263\n",
      "Epoch 36/40\n",
      "Epoch 00035: val_loss did not improve\n",
      "1s - loss: 0.0033 - acc: 0.9990 - val_loss: 1.1595 - val_acc: 0.8323\n",
      "Epoch 37/40\n",
      "Epoch 00036: val_loss did not improve\n",
      "2s - loss: 0.0043 - acc: 0.9988 - val_loss: 1.1182 - val_acc: 0.8311\n",
      "Epoch 38/40\n",
      "Epoch 00037: val_loss did not improve\n",
      "2s - loss: 0.0045 - acc: 0.9985 - val_loss: 1.1440 - val_acc: 0.8311\n",
      "Epoch 39/40\n",
      "Epoch 00038: val_loss did not improve\n",
      "2s - loss: 0.0035 - acc: 0.9984 - val_loss: 1.1623 - val_acc: 0.8251\n",
      "Epoch 40/40\n",
      "Epoch 00039: val_loss did not improve\n",
      "2s - loss: 0.0041 - acc: 0.9987 - val_loss: 1.1694 - val_acc: 0.8228\n",
      "Test accuracy: 80.5024%\n"
     ]
    }
   ],
   "source": [
    "### TODO: Obtain bottleneck features from another pre-trained CNN.\n",
    "\n",
    "# Obtain bottleneck features from Resnet50\n",
    "bottleneck_features = np.load('bottleneck_features/DogResnet50Data.npz')\n",
    "train_Resnet50 = bottleneck_features['train']\n",
    "valid_Resnet50 = bottleneck_features['valid']\n",
    "test_Resnet50 = bottleneck_features['test']\n",
    "\n",
    "# model architecture of dog breed prediction model with Resnet50 bottleneck featuress\n",
    "Resnet50_model = Sequential()\n",
    "Resnet50_model.add(GlobalAveragePooling2D(input_shape=train_Resnet50.shape[1:]))\n",
    "Resnet50_model.add(Dense(133, activation='softmax'))\n",
    "Resnet50_model.summary()\n",
    "\n",
    "# compile Resnet50\n",
    "Resnet50_model.compile(loss='categorical_crossentropy', optimizer='rmsprop', metrics=['accuracy'])\n",
    "\n",
    "# train the model\n",
    "checkpointer = ModelCheckpoint(filepath='saved_models/weights.best.Resnet50.hdf5', \n",
    "                               verbose=1, save_best_only=True)\n",
    "Resnet50Hisory40 = Resnet50_model.fit(train_Resnet50, train_targets, \n",
    "          validation_data=(valid_Resnet50, valid_targets),\n",
    "          epochs=40, batch_size=20, callbacks=[checkpointer], verbose=2)\n",
    "\n",
    "# load the model with the best validation loss\n",
    "Resnet50_model.load_weights('saved_models/weights.best.Resnet50.hdf5')\n",
    "\n",
    "# get index of predicted dog breed for each image in test set\n",
    "Resnet50_predictions = [np.argmax(Resnet50_model.predict(np.expand_dims(feature, axis=0))) for feature in test_Resnet50]\n",
    "\n",
    "# report test accuracy\n",
    "test_accuracy = 100*np.sum(np.array(Resnet50_predictions)==np.argmax(test_targets, axis=1))/len(Resnet50_predictions)\n",
    "print('Test accuracy: %.4f%%' % test_accuracy)"
   ]
  },
  {
   "cell_type": "code",
   "execution_count": 86,
   "metadata": {
    "collapsed": false,
    "deletable": true,
    "editable": true
   },
   "outputs": [
    {
     "name": "stdout",
     "output_type": "stream",
     "text": [
      "_________________________________________________________________\n",
      "Layer (type)                 Output Shape              Param #   \n",
      "=================================================================\n",
      "global_average_pooling2d_10  (None, 2048)              0         \n",
      "_________________________________________________________________\n",
      "dense_10 (Dense)             (None, 133)               272517    \n",
      "=================================================================\n",
      "Total params: 272,517.0\n",
      "Trainable params: 272,517.0\n",
      "Non-trainable params: 0.0\n",
      "_________________________________________________________________\n",
      "Train on 6680 samples, validate on 835 samples\n",
      "Epoch 1/40\n",
      "Epoch 00000: val_loss improved from inf to 0.54991, saving model to saved_models/weights.best.Xception.hdf5\n",
      "4s - loss: 1.0553 - acc: 0.7382 - val_loss: 0.5499 - val_acc: 0.8156\n",
      "Epoch 2/40\n",
      "Epoch 00001: val_loss improved from 0.54991 to 0.48076, saving model to saved_models/weights.best.Xception.hdf5\n",
      "4s - loss: 0.4049 - acc: 0.8714 - val_loss: 0.4808 - val_acc: 0.8539\n",
      "Epoch 3/40\n",
      "Epoch 00002: val_loss improved from 0.48076 to 0.47137, saving model to saved_models/weights.best.Xception.hdf5\n",
      "4s - loss: 0.3265 - acc: 0.8978 - val_loss: 0.4714 - val_acc: 0.8563\n",
      "Epoch 4/40\n",
      "Epoch 00003: val_loss improved from 0.47137 to 0.47016, saving model to saved_models/weights.best.Xception.hdf5\n",
      "4s - loss: 0.2765 - acc: 0.9123 - val_loss: 0.4702 - val_acc: 0.8635\n",
      "Epoch 5/40\n",
      "Epoch 00004: val_loss did not improve\n",
      "4s - loss: 0.2410 - acc: 0.9235 - val_loss: 0.5085 - val_acc: 0.8587\n",
      "Epoch 6/40\n",
      "Epoch 00005: val_loss did not improve\n",
      "4s - loss: 0.2177 - acc: 0.9331 - val_loss: 0.5191 - val_acc: 0.8539\n",
      "Epoch 7/40\n",
      "Epoch 00006: val_loss did not improve\n",
      "4s - loss: 0.1964 - acc: 0.9383 - val_loss: 0.5315 - val_acc: 0.8479\n",
      "Epoch 8/40\n",
      "Epoch 00007: val_loss did not improve\n",
      "4s - loss: 0.1749 - acc: 0.9448 - val_loss: 0.5612 - val_acc: 0.8563\n",
      "Epoch 9/40\n",
      "Epoch 00008: val_loss did not improve\n",
      "4s - loss: 0.1589 - acc: 0.9518 - val_loss: 0.5701 - val_acc: 0.8599\n",
      "Epoch 10/40\n",
      "Epoch 00009: val_loss did not improve\n",
      "4s - loss: 0.1483 - acc: 0.9567 - val_loss: 0.5469 - val_acc: 0.8611\n",
      "Epoch 11/40\n",
      "Epoch 00010: val_loss did not improve\n",
      "4s - loss: 0.1353 - acc: 0.9581 - val_loss: 0.5699 - val_acc: 0.8611\n",
      "Epoch 12/40\n",
      "Epoch 00011: val_loss did not improve\n",
      "4s - loss: 0.1293 - acc: 0.9606 - val_loss: 0.5589 - val_acc: 0.8623\n",
      "Epoch 13/40\n",
      "Epoch 00012: val_loss did not improve\n",
      "4s - loss: 0.1189 - acc: 0.9656 - val_loss: 0.6074 - val_acc: 0.8671\n",
      "Epoch 14/40\n",
      "Epoch 00013: val_loss did not improve\n",
      "4s - loss: 0.1054 - acc: 0.9680 - val_loss: 0.6483 - val_acc: 0.8539\n",
      "Epoch 15/40\n",
      "Epoch 00014: val_loss did not improve\n",
      "4s - loss: 0.1018 - acc: 0.9690 - val_loss: 0.6332 - val_acc: 0.8563\n",
      "Epoch 16/40\n",
      "Epoch 00015: val_loss did not improve\n",
      "4s - loss: 0.0983 - acc: 0.9735 - val_loss: 0.6274 - val_acc: 0.8575\n",
      "Epoch 17/40\n",
      "Epoch 00016: val_loss did not improve\n",
      "4s - loss: 0.0913 - acc: 0.9741 - val_loss: 0.6349 - val_acc: 0.8563\n",
      "Epoch 18/40\n",
      "Epoch 00017: val_loss did not improve\n",
      "4s - loss: 0.0839 - acc: 0.9759 - val_loss: 0.6677 - val_acc: 0.8575\n",
      "Epoch 19/40\n",
      "Epoch 00018: val_loss did not improve\n",
      "4s - loss: 0.0834 - acc: 0.9760 - val_loss: 0.6530 - val_acc: 0.8551\n",
      "Epoch 20/40\n",
      "Epoch 00019: val_loss did not improve\n",
      "4s - loss: 0.0762 - acc: 0.9787 - val_loss: 0.6742 - val_acc: 0.8563\n",
      "Epoch 21/40\n",
      "Epoch 00020: val_loss did not improve\n",
      "4s - loss: 0.0694 - acc: 0.9802 - val_loss: 0.6958 - val_acc: 0.8527\n",
      "Epoch 22/40\n",
      "Epoch 00021: val_loss did not improve\n",
      "4s - loss: 0.0648 - acc: 0.9810 - val_loss: 0.7450 - val_acc: 0.8527\n",
      "Epoch 23/40\n",
      "Epoch 00022: val_loss did not improve\n",
      "4s - loss: 0.0611 - acc: 0.9826 - val_loss: 0.7015 - val_acc: 0.8611\n",
      "Epoch 24/40\n",
      "Epoch 00023: val_loss did not improve\n",
      "4s - loss: 0.0572 - acc: 0.9841 - val_loss: 0.7444 - val_acc: 0.8491\n",
      "Epoch 25/40\n",
      "Epoch 00024: val_loss did not improve\n",
      "4s - loss: 0.0578 - acc: 0.9837 - val_loss: 0.7564 - val_acc: 0.8551\n",
      "Epoch 26/40\n",
      "Epoch 00025: val_loss did not improve\n",
      "4s - loss: 0.0548 - acc: 0.9843 - val_loss: 0.7377 - val_acc: 0.8587\n",
      "Epoch 27/40\n",
      "Epoch 00026: val_loss did not improve\n",
      "4s - loss: 0.0506 - acc: 0.9862 - val_loss: 0.7682 - val_acc: 0.8563\n",
      "Epoch 28/40\n",
      "Epoch 00027: val_loss did not improve\n",
      "4s - loss: 0.0490 - acc: 0.9862 - val_loss: 0.7664 - val_acc: 0.8443\n",
      "Epoch 29/40\n",
      "Epoch 00028: val_loss did not improve\n",
      "4s - loss: 0.0433 - acc: 0.9886 - val_loss: 0.7888 - val_acc: 0.8599\n",
      "Epoch 30/40\n",
      "Epoch 00029: val_loss did not improve\n",
      "4s - loss: 0.0451 - acc: 0.9877 - val_loss: 0.7726 - val_acc: 0.8551\n",
      "Epoch 31/40\n",
      "Epoch 00030: val_loss did not improve\n",
      "4s - loss: 0.0413 - acc: 0.9891 - val_loss: 0.8044 - val_acc: 0.8599\n",
      "Epoch 32/40\n",
      "Epoch 00031: val_loss did not improve\n",
      "4s - loss: 0.0419 - acc: 0.9891 - val_loss: 0.7948 - val_acc: 0.8647\n",
      "Epoch 33/40\n",
      "Epoch 00032: val_loss did not improve\n",
      "4s - loss: 0.0401 - acc: 0.9894 - val_loss: 0.8292 - val_acc: 0.8551\n",
      "Epoch 34/40\n",
      "Epoch 00033: val_loss did not improve\n",
      "4s - loss: 0.0359 - acc: 0.9901 - val_loss: 0.8556 - val_acc: 0.8527\n",
      "Epoch 35/40\n",
      "Epoch 00034: val_loss did not improve\n",
      "4s - loss: 0.0361 - acc: 0.9906 - val_loss: 0.8270 - val_acc: 0.8551\n",
      "Epoch 36/40\n",
      "Epoch 00035: val_loss did not improve\n",
      "4s - loss: 0.0349 - acc: 0.9909 - val_loss: 0.8339 - val_acc: 0.8611\n",
      "Epoch 37/40\n",
      "Epoch 00036: val_loss did not improve\n",
      "4s - loss: 0.0330 - acc: 0.9913 - val_loss: 0.8602 - val_acc: 0.8551\n",
      "Epoch 38/40\n",
      "Epoch 00037: val_loss did not improve\n",
      "4s - loss: 0.0318 - acc: 0.9906 - val_loss: 0.8774 - val_acc: 0.8563\n",
      "Epoch 39/40\n",
      "Epoch 00038: val_loss did not improve\n",
      "4s - loss: 0.0303 - acc: 0.9928 - val_loss: 0.8481 - val_acc: 0.8599\n",
      "Epoch 40/40\n",
      "Epoch 00039: val_loss did not improve\n",
      "4s - loss: 0.0302 - acc: 0.9919 - val_loss: 0.9030 - val_acc: 0.8515\n",
      "Test accuracy: 85.2871%\n"
     ]
    }
   ],
   "source": [
    "### TODO: Obtain bottleneck features from another pre-trained CNN.\n",
    "\n",
    "# Obtain bottleneck features from Xception\n",
    "bottleneck_features = np.load('bottleneck_features/DogXceptionData.npz')\n",
    "train_Xception = bottleneck_features['train']\n",
    "valid_Xception = bottleneck_features['valid']\n",
    "test_Xception = bottleneck_features['test']\n",
    "\n",
    "# model architecture of dog breed prediction model with Xception bottleneck featuress\n",
    "Xception_model = Sequential()\n",
    "Xception_model.add(GlobalAveragePooling2D(input_shape=train_Xception.shape[1:]))\n",
    "Xception_model.add(Dense(133, activation='softmax'))\n",
    "Xception_model.summary()\n",
    "\n",
    "# compile Xception\n",
    "Xception_model.compile(loss='categorical_crossentropy', optimizer='rmsprop', metrics=['accuracy'])\n",
    "\n",
    "# train the model\n",
    "checkpointer = ModelCheckpoint(filepath='saved_models/weights.best.Xception.hdf5', \n",
    "                               verbose=1, save_best_only=True)\n",
    "XceptionHisory40 = Xception_model.fit(train_Xception, train_targets, \n",
    "          validation_data=(valid_Xception, valid_targets),\n",
    "          epochs=40, batch_size=20, callbacks=[checkpointer], verbose=2)\n",
    "\n",
    "# load the model with the best validation loss\n",
    "Xception_model.load_weights('saved_models/weights.best.Xception.hdf5')\n",
    "\n",
    "# get index of predicted dog breed for each image in test set\n",
    "Xception_predictions = [np.argmax(Xception_model.predict(np.expand_dims(feature, axis=0))) for feature in test_Xception]\n",
    "\n",
    "# report test accuracy\n",
    "test_accuracy = 100*np.sum(np.array(Xception_predictions)==np.argmax(test_targets, axis=1))/len(Xception_predictions)\n",
    "print('Test accuracy: %.4f%%' % test_accuracy)"
   ]
  },
  {
   "cell_type": "code",
   "execution_count": 89,
   "metadata": {
    "collapsed": false,
    "deletable": true,
    "editable": true
   },
   "outputs": [
    {
     "data": {
      "image/png": "[encoded data removed]",
      "text/plain": [
       "<matplotlib.figure.Figure at 0x44e92128>"
      ]
     },
     "metadata": {},
     "output_type": "display_data"
    },
    {
     "data": {
      "image/png": "[encoded data removed]",
      "text/plain": [
       "<matplotlib.figure.Figure at 0x46fedb00>"
      ]
     },
     "metadata": {},
     "output_type": "display_data"
    }
   ],
   "source": [
    "plt.plot(Resnet50Hisory40.history['acc'], linestyle = '-', color = 'black')\n",
    "plt.plot(Resnet50Hisory40.history['val_acc'], linestyle = ':', color = 'black')\n",
    "plt.plot(XceptionHisory40.history['acc'], linestyle = '-', color = 'green')\n",
    "plt.plot(XceptionHisory40.history['val_acc'], linestyle = '-', color = 'green')\n",
    "plt.title('model accuracy')\n",
    "plt.ylabel('accuracy')\n",
    "plt.xlabel('epoch')\n",
    "plt.show()\n",
    "plt.plot(Resnet50Hisory40.history['loss'], linestyle = '-', color = 'black')\n",
    "plt.plot(Resnet50Hisory40.history['val_loss'], linestyle = ':', color = 'black')\n",
    "plt.plot(XceptionHisory40.history['loss'], linestyle = '-', color = 'green')\n",
    "plt.plot(XceptionHisory40.history['val_loss'], linestyle = ':', color = 'green')\n",
    "plt.show()"
   ]
  },
  {
   "cell_type": "markdown",
   "metadata": {
    "deletable": true,
    "editable": true
   },
   "source": [
    "### (IMPLEMENTATION) Compile the Model"
   ]
  },
  {
   "cell_type": "markdown",
   "metadata": {
    "deletable": true,
    "editable": true
   },
   "source": [
    "### (IMPLEMENTATION) Train the Model\n",
    "\n",
    "Train your model in the code cell below.  Use model checkpointing to save the model that attains the best validation loss.  \n",
    "\n",
    "You are welcome to [augment the training data](https://blog.keras.io/building-powerful-image-classification-models-using-very-little-data.html), but this is not a requirement. "
   ]
  },
  {
   "cell_type": "markdown",
   "metadata": {
    "deletable": true,
    "editable": true
   },
   "source": [
    "### (IMPLEMENTATION) Load the Model with the Best Validation Loss"
   ]
  },
  {
   "cell_type": "markdown",
   "metadata": {
    "deletable": true,
    "editable": true
   },
   "source": [
    "### (IMPLEMENTATION) Test the Model\n",
    "\n",
    "Try out your model on the test dataset of dog images. Ensure that your test accuracy is greater than 60%."
   ]
  },
  {
   "cell_type": "markdown",
   "metadata": {
    "deletable": true,
    "editable": true
   },
   "source": [
    "### (IMPLEMENTATION) Predict Dog Breed with the Model\n",
    "\n",
    "Write a function that takes an image path as input and returns the dog breed (`Affenpinscher`, `Afghan_hound`, etc) that is predicted by your model.  \n",
    "\n",
    "Similar to the analogous function in Step 5, your function should have three steps:\n",
    "1. Extract the bottleneck features corresponding to the chosen CNN model.\n",
    "2. Supply the bottleneck features as input to the model to return the predicted vector.  Note that the argmax of this prediction vector gives the index of the predicted dog breed.\n",
    "3. Use the `dog_names` array defined in Step 0 of this notebook to return the corresponding breed.\n",
    "\n",
    "The functions to extract the bottleneck features can be found in `extract_bottleneck_features.py`, and they have been imported in an earlier code cell.  To obtain the bottleneck features corresponding to your chosen CNN architecture, you need to use the function\n",
    "\n",
    "    extract_{network}\n",
    "    \n",
    "where `{network}`, in the above filename, should be one of `VGG19`, `Resnet50`, `InceptionV3`, or `Xception`."
   ]
  },
  {
   "cell_type": "code",
   "execution_count": null,
   "metadata": {
    "collapsed": true
   },
   "outputs": [],
   "source": [
    "# Obtain bottleneck features from DenseNet\n",
    "train_DenseNet = np.load('bottleneck_features/DogDenseNet_train.npy')\n",
    "valid_DenseNet = np.load('bottleneck_features/DogDenseNet_valid.npy')\n",
    "test_DenseNet = np.load('bottleneck_features/DogDenseNet_test.npy')"
   ]
  },
  {
   "cell_type": "code",
   "execution_count": 18,
   "metadata": {
    "collapsed": false
   },
   "outputs": [
    {
     "name": "stdout",
     "output_type": "stream",
     "text": [
      "_________________________________________________________________\n",
      "Layer (type)                 Output Shape              Param #   \n",
      "=================================================================\n",
      "dense_4 (Dense)              (None, 133)               293797    \n",
      "=================================================================\n",
      "Total params: 293,797.0\n",
      "Trainable params: 293,797\n",
      "Non-trainable params: 0.0\n",
      "_________________________________________________________________\n",
      "Train on 6680 samples, validate on 835 samples\n",
      "Epoch 1/40\n",
      "Epoch 00000: val_loss improved from inf to 0.61936, saving model to saved_models/weights.best.DenseNet.hdf5\n",
      "2s - loss: 1.6858 - acc: 0.6238 - val_loss: 0.6194 - val_acc: 0.8144\n",
      "Epoch 2/40\n",
      "Epoch 00001: val_loss improved from 0.61936 to 0.48361, saving model to saved_models/weights.best.DenseNet.hdf5\n",
      "1s - loss: 0.3909 - acc: 0.8855 - val_loss: 0.4836 - val_acc: 0.8383\n",
      "Epoch 3/40\n",
      "Epoch 00002: val_loss improved from 0.48361 to 0.40621, saving model to saved_models/weights.best.DenseNet.hdf5\n",
      "1s - loss: 0.2418 - acc: 0.9284 - val_loss: 0.4062 - val_acc: 0.8539\n",
      "Epoch 4/40\n",
      "Epoch 00003: val_loss improved from 0.40621 to 0.39242, saving model to saved_models/weights.best.DenseNet.hdf5\n",
      "1s - loss: 0.1747 - acc: 0.9485 - val_loss: 0.3924 - val_acc: 0.8707\n",
      "Epoch 5/40\n",
      "Epoch 00004: val_loss improved from 0.39242 to 0.38411, saving model to saved_models/weights.best.DenseNet.hdf5\n",
      "1s - loss: 0.1276 - acc: 0.9606 - val_loss: 0.3841 - val_acc: 0.8707\n",
      "Epoch 6/40\n",
      "Epoch 00005: val_loss did not improve\n",
      "1s - loss: 0.1003 - acc: 0.9695 - val_loss: 0.3950 - val_acc: 0.8599\n",
      "Epoch 7/40\n",
      "Epoch 00006: val_loss did not improve\n",
      "1s - loss: 0.0796 - acc: 0.9753 - val_loss: 0.3863 - val_acc: 0.8743\n",
      "Epoch 8/40\n",
      "Epoch 00007: val_loss improved from 0.38411 to 0.36380, saving model to saved_models/weights.best.DenseNet.hdf5\n",
      "1s - loss: 0.0664 - acc: 0.9807 - val_loss: 0.3638 - val_acc: 0.8766\n",
      "Epoch 9/40\n",
      "Epoch 00008: val_loss did not improve\n",
      "1s - loss: 0.0524 - acc: 0.9841 - val_loss: 0.3677 - val_acc: 0.8778\n",
      "Epoch 10/40\n",
      "Epoch 00009: val_loss did not improve\n",
      "1s - loss: 0.0426 - acc: 0.9888 - val_loss: 0.3855 - val_acc: 0.8826\n",
      "Epoch 11/40\n",
      "Epoch 00010: val_loss did not improve\n",
      "1s - loss: 0.0362 - acc: 0.9903 - val_loss: 0.3822 - val_acc: 0.8743\n",
      "Epoch 12/40\n",
      "Epoch 00011: val_loss did not improve\n",
      "1s - loss: 0.0301 - acc: 0.9912 - val_loss: 0.3952 - val_acc: 0.8766\n",
      "Epoch 13/40\n",
      "Epoch 00012: val_loss did not improve\n",
      "1s - loss: 0.0253 - acc: 0.9930 - val_loss: 0.3944 - val_acc: 0.8659\n",
      "Epoch 14/40\n",
      "Epoch 00013: val_loss improved from 0.36380 to 0.36251, saving model to saved_models/weights.best.DenseNet.hdf5\n",
      "1s - loss: 0.0238 - acc: 0.9943 - val_loss: 0.3625 - val_acc: 0.8814\n",
      "Epoch 15/40\n",
      "Epoch 00014: val_loss did not improve\n",
      "1s - loss: 0.0189 - acc: 0.9954 - val_loss: 0.3724 - val_acc: 0.8838\n",
      "Epoch 16/40\n",
      "Epoch 00015: val_loss did not improve\n",
      "1s - loss: 0.0173 - acc: 0.9954 - val_loss: 0.3855 - val_acc: 0.8766\n",
      "Epoch 17/40\n",
      "Epoch 00016: val_loss did not improve\n",
      "1s - loss: 0.0140 - acc: 0.9966 - val_loss: 0.4000 - val_acc: 0.8874\n",
      "Epoch 18/40\n",
      "Epoch 00017: val_loss did not improve\n",
      "1s - loss: 0.0112 - acc: 0.9972 - val_loss: 0.4029 - val_acc: 0.8802\n",
      "Epoch 19/40\n",
      "Epoch 00018: val_loss did not improve\n",
      "1s - loss: 0.0107 - acc: 0.9976 - val_loss: 0.4274 - val_acc: 0.8838\n",
      "Epoch 20/40\n",
      "Epoch 00019: val_loss did not improve\n",
      "1s - loss: 0.0093 - acc: 0.9975 - val_loss: 0.4274 - val_acc: 0.8778\n",
      "Epoch 21/40\n",
      "Epoch 00020: val_loss did not improve\n",
      "1s - loss: 0.0090 - acc: 0.9973 - val_loss: 0.4090 - val_acc: 0.8778\n",
      "Epoch 22/40\n",
      "Epoch 00021: val_loss did not improve\n",
      "1s - loss: 0.0079 - acc: 0.9979 - val_loss: 0.4385 - val_acc: 0.8778\n",
      "Epoch 23/40\n",
      "Epoch 00022: val_loss did not improve\n",
      "1s - loss: 0.0069 - acc: 0.9984 - val_loss: 0.4562 - val_acc: 0.8862\n",
      "Epoch 24/40\n",
      "Epoch 00023: val_loss did not improve\n",
      "1s - loss: 0.0056 - acc: 0.9987 - val_loss: 0.4483 - val_acc: 0.8778\n",
      "Epoch 25/40\n",
      "Epoch 00024: val_loss did not improve\n",
      "1s - loss: 0.0051 - acc: 0.9990 - val_loss: 0.4559 - val_acc: 0.8814\n",
      "Epoch 26/40\n",
      "Epoch 00025: val_loss did not improve\n",
      "1s - loss: 0.0053 - acc: 0.9982 - val_loss: 0.4652 - val_acc: 0.8838\n",
      "Epoch 27/40\n",
      "Epoch 00026: val_loss did not improve\n",
      "1s - loss: 0.0046 - acc: 0.9987 - val_loss: 0.4558 - val_acc: 0.8862\n",
      "Epoch 28/40\n",
      "Epoch 00027: val_loss did not improve\n",
      "1s - loss: 0.0045 - acc: 0.9988 - val_loss: 0.4438 - val_acc: 0.8826\n",
      "Epoch 29/40\n",
      "Epoch 00028: val_loss did not improve\n",
      "1s - loss: 0.0045 - acc: 0.9987 - val_loss: 0.4661 - val_acc: 0.8922\n",
      "Epoch 30/40\n",
      "Epoch 00029: val_loss did not improve\n",
      "1s - loss: 0.0046 - acc: 0.9985 - val_loss: 0.4697 - val_acc: 0.8862\n",
      "Epoch 31/40\n",
      "Epoch 00030: val_loss did not improve\n",
      "1s - loss: 0.0036 - acc: 0.9990 - val_loss: 0.4618 - val_acc: 0.8802\n",
      "Epoch 32/40\n",
      "Epoch 00031: val_loss did not improve\n",
      "1s - loss: 0.0039 - acc: 0.9990 - val_loss: 0.4725 - val_acc: 0.8850\n",
      "Epoch 33/40\n",
      "Epoch 00032: val_loss did not improve\n",
      "1s - loss: 0.0037 - acc: 0.9987 - val_loss: 0.5140 - val_acc: 0.8910\n",
      "Epoch 34/40\n",
      "Epoch 00033: val_loss did not improve\n",
      "1s - loss: 0.0032 - acc: 0.9993 - val_loss: 0.4977 - val_acc: 0.8910\n",
      "Epoch 35/40\n",
      "Epoch 00034: val_loss did not improve\n",
      "2s - loss: 0.0030 - acc: 0.9991 - val_loss: 0.5059 - val_acc: 0.8778\n",
      "Epoch 36/40\n",
      "Epoch 00035: val_loss did not improve\n",
      "1s - loss: 0.0034 - acc: 0.9990 - val_loss: 0.5187 - val_acc: 0.8838\n",
      "Epoch 37/40\n",
      "Epoch 00036: val_loss did not improve\n",
      "2s - loss: 0.0029 - acc: 0.9991 - val_loss: 0.5399 - val_acc: 0.8778\n",
      "Epoch 38/40\n",
      "Epoch 00037: val_loss did not improve\n",
      "2s - loss: 0.0034 - acc: 0.9987 - val_loss: 0.5296 - val_acc: 0.8778\n",
      "Epoch 39/40\n",
      "Epoch 00038: val_loss did not improve\n",
      "1s - loss: 0.0028 - acc: 0.9987 - val_loss: 0.5112 - val_acc: 0.8862\n",
      "Epoch 40/40\n",
      "Epoch 00039: val_loss did not improve\n",
      "1s - loss: 0.0028 - acc: 0.9990 - val_loss: 0.5318 - val_acc: 0.8886\n",
      "Test accuracy: 87.7990%\n"
     ]
    }
   ],
   "source": [
    "# model architecture of dog breed prediction model with DenseNet bottleneck featuress\n",
    "DenseNet_try = Sequential()\n",
    "DenseNet_try.add(Dense(133, activation='softmax', input_shape=train_DenseNet.shape[1:]))\n",
    "DenseNet_try.summary()\n",
    "\n",
    "# compile DenseNet\n",
    "DenseNet_try.compile(loss='categorical_crossentropy', optimizer='rmsprop', metrics=['accuracy'])\n",
    "\n",
    "# train DenseNet\n",
    "checkpointer = ModelCheckpoint(filepath='saved_models/weights.best.DenseNet.hdf5', \n",
    "                               verbose=1, save_best_only=True)\n",
    "DenseNetHisory40 = DenseNet_try.fit(train_DenseNet, train_targets, \n",
    "          validation_data=(valid_DenseNet, valid_targets),\n",
    "          epochs=40, batch_size=20, callbacks=[checkpointer], verbose=2)\n",
    "\n",
    "# load the model with the best validation loss\n",
    "DenseNet_try.load_weights('saved_models/weights.best.DenseNet.hdf5')\n",
    "\n",
    "# get index of predicted dog breed for each image in test set\n",
    "DenseNet_predictions = [np.argmax(DenseNet_try.predict(np.expand_dims(feature, axis=0))) for feature in test_DenseNet]\n",
    "\n",
    "# report test accuracy\n",
    "test_accuracy = 100*np.sum(np.array(DenseNet_predictions)==np.argmax(test_targets, axis=1))/len(DenseNet_predictions)\n",
    "print('Test accuracy: %.4f%%' % test_accuracy)"
   ]
  },
  {
   "cell_type": "markdown",
   "metadata": {
    "deletable": true,
    "editable": true
   },
   "source": [
    "---\n",
    "<a id='step6'></a>\n",
    "## Step 6: Write your Algorithm\n",
    "\n",
    "Write an algorithm that accepts a file path to an image and first determines whether the image contains a human, dog, or neither.  Then,\n",
    "- if a __dog__ is detected in the image, return the predicted breed.\n",
    "- if a __human__ is detected in the image, return the resembling dog breed.\n",
    "- if __neither__ is detected in the image, provide output that indicates an error.\n",
    "\n",
    "You are welcome to write your own functions for detecting humans and dogs in images, but feel free to use the `face_detector` and `dog_detector` functions developed above.  You are __required__ to use your CNN from Step 5 to predict dog breed.  \n",
    "\n",
    "Some sample output for our algorithm is provided below, but feel free to design your own user experience!\n",
    "\n",
    "![Sample Human Output](images/sample_human_output.png)\n",
    "\n",
    "\n",
    "### (IMPLEMENTATION) Write your Algorithm"
   ]
  },
  {
   "cell_type": "code",
   "execution_count": null,
   "metadata": {
    "collapsed": true,
    "deletable": true,
    "editable": true
   },
   "outputs": [],
   "source": [
    "### TODO: Write your algorithm.\n",
    "### Feel free to use as many code cells as needed."
   ]
  },
  {
   "cell_type": "markdown",
   "metadata": {
    "deletable": true,
    "editable": true
   },
   "source": [
    "---\n",
    "<a id='step7'></a>\n",
    "## Step 7: Test Your Algorithm\n",
    "\n",
    "In this section, you will take your new algorithm for a spin!  What kind of dog does the algorithm think that __you__ look like?  If you have a dog, does it predict your dog's breed accurately?  If you have a cat, does it mistakenly think that your cat is a dog?\n",
    "\n",
    "### (IMPLEMENTATION) Test Your Algorithm on Sample Images!\n",
    "\n",
    "Test your algorithm at least six images on your computer.  Feel free to use any images you like.  Use at least two human and two dog images.  \n",
    "\n",
    "__Question 6:__ Is the output better than you expected :) ?  Or worse :( ?  Provide at least three possible points of improvement for your algorithm.\n",
    "\n",
    "__Answer:__ "
   ]
  },
  {
   "cell_type": "code",
   "execution_count": null,
   "metadata": {
    "collapsed": true,
    "deletable": true,
    "editable": true
   },
   "outputs": [],
   "source": [
    "## TODO: Execute your algorithm from Step 6 on\n",
    "## at least 6 images on your computer.\n",
    "## Feel free to use as many code cells as needed."
   ]
  }
 ],
 "metadata": {
  "anaconda-cloud": {},
  "kernelspec": {
   "display_name": "dog-project",
   "language": "python",
   "name": "dog-project"
  },
  "language_info": {
   "codemirror_mode": {
    "name": "ipython",
    "version": 3
   },
   "file_extension": ".py",
   "mimetype": "text/x-python",
   "name": "python",
   "nbconvert_exporter": "python",
   "pygments_lexer": "ipython3",
   "version": "3.5.3"
  }
 },
 "nbformat": 4,
 "nbformat_minor": 1
}
